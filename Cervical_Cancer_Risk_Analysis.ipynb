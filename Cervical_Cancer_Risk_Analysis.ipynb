{
  "nbformat": 4,
  "nbformat_minor": 0,
  "metadata": {
    "colab": {
      "name": "Cervical Cancer Risk Analysis.ipynb",
      "provenance": [],
      "collapsed_sections": [
        "n-ZYlh7mj8-K",
        "O7THVB5F7UY3",
        "-TpM0jV-lpB5",
        "6Y9At__ylz77",
        "VfZ3Ii92l8w3",
        "-ueuUx1ejX4M",
        "YDA0F6HVQu1E",
        "S0ZFOEc9h1C7",
        "6wNymdgIJLze",
        "SNzROOqeT8D6",
        "8VW5G1cAlZi7",
        "MjjoQVgtWRTe",
        "IJLnGmdYmIoW",
        "LPMjsD-tTrry",
        "YuS_mP2Icgw0",
        "t3jP546Qdk9A",
        "xZOiZnKXqZTO",
        "dDnkApJoN1oN",
        "ThUQoU_JE0Us",
        "BTi2uUkCLoDW",
        "gnRBhv-uLxfX"
      ],
      "authorship_tag": "ABX9TyOAr4tTsfinBhkw+uyTl1Wh",
      "include_colab_link": true
    },
    "kernelspec": {
      "display_name": "Python 3",
      "language": "python",
      "name": "python3"
    },
    "language_info": {
      "codemirror_mode": {
        "name": "ipython",
        "version": 3
      },
      "file_extension": ".py",
      "mimetype": "text/x-python",
      "name": "python",
      "nbconvert_exporter": "python",
      "pygments_lexer": "ipython3",
      "version": "3.7.7"
    }
  },
  "cells": [
    {
      "cell_type": "markdown",
      "metadata": {
        "id": "view-in-github",
        "colab_type": "text"
      },
      "source": [
        "<a href=\"https://colab.research.google.com/github/james811223/Cervical-Cancer-Risk-Factor-Analysis/blob/master/Cervical_Cancer_Risk_Analysis.ipynb\" target=\"_parent\"><img src=\"https://colab.research.google.com/assets/colab-badge.svg\" alt=\"Open In Colab\"/></a>"
      ]
    },
    {
      "cell_type": "markdown",
      "metadata": {
        "colab_type": "text",
        "id": "zaSIv_MgkBXV"
      },
      "source": [
        "# Set up"
      ]
    },
    {
      "cell_type": "code",
      "metadata": {
        "colab_type": "code",
        "id": "I7kK7ruDizba",
        "colab": {}
      },
      "source": [
        "from sklearn.model_selection import train_test_split as tts\n",
        "from sklearn.impute import KNNImputer as imp\n",
        "import pandas as pd, numpy as np, seaborn as sns, matplotlib.pyplot as plt, sklearn as skl\n",
        "from imblearn.combine import SMOTETomek as smote\n",
        "%matplotlib inline"
      ],
      "execution_count": null,
      "outputs": []
    },
    {
      "cell_type": "code",
      "metadata": {
        "colab_type": "code",
        "id": "5sYyT48fczD4",
        "colab": {}
      },
      "source": [
        "sns.set_style('darkgrid',{'figure.facecolor': 'lightblue'})"
      ],
      "execution_count": 2,
      "outputs": []
    },
    {
      "cell_type": "markdown",
      "metadata": {
        "colab_type": "text",
        "id": "a7QMgU9ofotr"
      },
      "source": [
        "# Data Import + Wrangling"
      ]
    },
    {
      "cell_type": "code",
      "metadata": {
        "colab_type": "code",
        "id": "QHBCDf-gjo4m",
        "colab": {
          "base_uri": "https://localhost:8080/",
          "height": 762
        },
        "outputId": "8a16453c-4bb5-495c-bce0-f7acdf4ca268"
      },
      "source": [
        "df_raw = pd.read_csv('https://archive.ics.uci.edu/ml/machine-learning-databases/00383/risk_factors_cervical_cancer.csv', \n",
        "                     na_values='?')\n",
        "df_raw.info()"
      ],
      "execution_count": 3,
      "outputs": [
        {
          "output_type": "stream",
          "text": [
            "<class 'pandas.core.frame.DataFrame'>\n",
            "RangeIndex: 858 entries, 0 to 857\n",
            "Data columns (total 36 columns):\n",
            " #   Column                              Non-Null Count  Dtype  \n",
            "---  ------                              --------------  -----  \n",
            " 0   Age                                 858 non-null    int64  \n",
            " 1   Number of sexual partners           832 non-null    float64\n",
            " 2   First sexual intercourse            851 non-null    float64\n",
            " 3   Num of pregnancies                  802 non-null    float64\n",
            " 4   Smokes                              845 non-null    float64\n",
            " 5   Smokes (years)                      845 non-null    float64\n",
            " 6   Smokes (packs/year)                 845 non-null    float64\n",
            " 7   Hormonal Contraceptives             750 non-null    float64\n",
            " 8   Hormonal Contraceptives (years)     750 non-null    float64\n",
            " 9   IUD                                 741 non-null    float64\n",
            " 10  IUD (years)                         741 non-null    float64\n",
            " 11  STDs                                753 non-null    float64\n",
            " 12  STDs (number)                       753 non-null    float64\n",
            " 13  STDs:condylomatosis                 753 non-null    float64\n",
            " 14  STDs:cervical condylomatosis        753 non-null    float64\n",
            " 15  STDs:vaginal condylomatosis         753 non-null    float64\n",
            " 16  STDs:vulvo-perineal condylomatosis  753 non-null    float64\n",
            " 17  STDs:syphilis                       753 non-null    float64\n",
            " 18  STDs:pelvic inflammatory disease    753 non-null    float64\n",
            " 19  STDs:genital herpes                 753 non-null    float64\n",
            " 20  STDs:molluscum contagiosum          753 non-null    float64\n",
            " 21  STDs:AIDS                           753 non-null    float64\n",
            " 22  STDs:HIV                            753 non-null    float64\n",
            " 23  STDs:Hepatitis B                    753 non-null    float64\n",
            " 24  STDs:HPV                            753 non-null    float64\n",
            " 25  STDs: Number of diagnosis           858 non-null    int64  \n",
            " 26  STDs: Time since first diagnosis    71 non-null     float64\n",
            " 27  STDs: Time since last diagnosis     71 non-null     float64\n",
            " 28  Dx:Cancer                           858 non-null    int64  \n",
            " 29  Dx:CIN                              858 non-null    int64  \n",
            " 30  Dx:HPV                              858 non-null    int64  \n",
            " 31  Dx                                  858 non-null    int64  \n",
            " 32  Hinselmann                          858 non-null    int64  \n",
            " 33  Schiller                            858 non-null    int64  \n",
            " 34  Citology                            858 non-null    int64  \n",
            " 35  Biopsy                              858 non-null    int64  \n",
            "dtypes: float64(26), int64(10)\n",
            "memory usage: 241.4 KB\n"
          ],
          "name": "stdout"
        }
      ]
    },
    {
      "cell_type": "markdown",
      "metadata": {
        "colab_type": "text",
        "id": "XnDRMmHzRo0i"
      },
      "source": [
        "Drop STDs: Time since first diagnosis, STDs: Time since last diagnosis columns, due to large amount of missing values.  \n",
        "Last few columns are all potential targets, we'll use Biopsy and drop others."
      ]
    },
    {
      "cell_type": "code",
      "metadata": {
        "colab_type": "code",
        "id": "60EjSFQDRprc",
        "colab": {}
      },
      "source": [
        "df_raw.drop(columns = df_raw.columns[[26, 27, 29, 30, 31, 32, 33, 34, 35]], inplace = 1 == 1)"
      ],
      "execution_count": 4,
      "outputs": []
    },
    {
      "cell_type": "markdown",
      "metadata": {
        "colab_type": "text",
        "id": "MqWySc3IQQRv"
      },
      "source": [
        "Biopsy will be used as target variable. Lets take a look."
      ]
    },
    {
      "cell_type": "code",
      "metadata": {
        "colab_type": "code",
        "id": "s6TQrUkPP-xp",
        "colab": {
          "base_uri": "https://localhost:8080/",
          "height": 69
        },
        "outputId": "18f3de33-0076-410b-b3a4-413e116aa8e0"
      },
      "source": [
        "df_raw['Dx:Cancer'].value_counts()"
      ],
      "execution_count": 5,
      "outputs": [
        {
          "output_type": "execute_result",
          "data": {
            "text/plain": [
              "0    840\n",
              "1     18\n",
              "Name: Dx:Cancer, dtype: int64"
            ]
          },
          "metadata": {
            "tags": []
          },
          "execution_count": 5
        }
      ]
    },
    {
      "cell_type": "markdown",
      "metadata": {
        "colab_type": "text",
        "id": "L7dXmJamQctL"
      },
      "source": [
        "The data is highly imbalanced. I will drop the rows with missing data where Biospy is 0 to downsample a little bit."
      ]
    },
    {
      "cell_type": "code",
      "metadata": {
        "colab_type": "code",
        "id": "FNRUWkDXQtZM",
        "colab": {
          "base_uri": "https://localhost:8080/",
          "height": 69
        },
        "outputId": "ed2cc4d5-cb4b-49fe-84cd-184433450356"
      },
      "source": [
        "b1 = df_raw.query('`Dx:Cancer` == 1')\n",
        "b0 = df_raw.query('`Dx:Cancer` == 0').dropna()\n",
        "df = pd.concat([b1,b0], ignore_index = 1 == 1)\n",
        "df['Dx:Cancer'].value_counts()"
      ],
      "execution_count": 6,
      "outputs": [
        {
          "output_type": "execute_result",
          "data": {
            "text/plain": [
              "0    651\n",
              "1     18\n",
              "Name: Dx:Cancer, dtype: int64"
            ]
          },
          "metadata": {
            "tags": []
          },
          "execution_count": 6
        }
      ]
    },
    {
      "cell_type": "code",
      "metadata": {
        "colab_type": "code",
        "id": "8fPtCBsCTWQX",
        "colab": {
          "base_uri": "https://localhost:8080/",
          "height": 606
        },
        "outputId": "074072c6-d4f2-4e89-ed49-61d209121253"
      },
      "source": [
        "df.info()"
      ],
      "execution_count": 7,
      "outputs": [
        {
          "output_type": "stream",
          "text": [
            "<class 'pandas.core.frame.DataFrame'>\n",
            "RangeIndex: 669 entries, 0 to 668\n",
            "Data columns (total 27 columns):\n",
            " #   Column                              Non-Null Count  Dtype  \n",
            "---  ------                              --------------  -----  \n",
            " 0   Age                                 669 non-null    int64  \n",
            " 1   Number of sexual partners           669 non-null    float64\n",
            " 2   First sexual intercourse            669 non-null    float64\n",
            " 3   Num of pregnancies                  669 non-null    float64\n",
            " 4   Smokes                              668 non-null    float64\n",
            " 5   Smokes (years)                      668 non-null    float64\n",
            " 6   Smokes (packs/year)                 668 non-null    float64\n",
            " 7   Hormonal Contraceptives             669 non-null    float64\n",
            " 8   Hormonal Contraceptives (years)     669 non-null    float64\n",
            " 9   IUD                                 669 non-null    float64\n",
            " 10  IUD (years)                         669 non-null    float64\n",
            " 11  STDs                                669 non-null    float64\n",
            " 12  STDs (number)                       669 non-null    float64\n",
            " 13  STDs:condylomatosis                 669 non-null    float64\n",
            " 14  STDs:cervical condylomatosis        669 non-null    float64\n",
            " 15  STDs:vaginal condylomatosis         669 non-null    float64\n",
            " 16  STDs:vulvo-perineal condylomatosis  669 non-null    float64\n",
            " 17  STDs:syphilis                       669 non-null    float64\n",
            " 18  STDs:pelvic inflammatory disease    669 non-null    float64\n",
            " 19  STDs:genital herpes                 669 non-null    float64\n",
            " 20  STDs:molluscum contagiosum          669 non-null    float64\n",
            " 21  STDs:AIDS                           669 non-null    float64\n",
            " 22  STDs:HIV                            669 non-null    float64\n",
            " 23  STDs:Hepatitis B                    669 non-null    float64\n",
            " 24  STDs:HPV                            669 non-null    float64\n",
            " 25  STDs: Number of diagnosis           669 non-null    int64  \n",
            " 26  Dx:Cancer                           669 non-null    int64  \n",
            "dtypes: float64(24), int64(3)\n",
            "memory usage: 141.2 KB\n"
          ],
          "name": "stdout"
        }
      ]
    },
    {
      "cell_type": "markdown",
      "metadata": {
        "colab_type": "text",
        "id": "Xznc2P8g9ilQ"
      },
      "source": [
        "Drop Smokes column because we can know if someone is smoking using Smokes(Years) or Smokes(packs/year) columns.  \n",
        "Drop IUD column because if IUD(years) > 0 then IUD is 1.  \n",
        "Same reasoning for dropping Hormonal Contraceptives.  \n",
        "Same reasoning for STDs, keeping only STDs(number)."
      ]
    },
    {
      "cell_type": "code",
      "metadata": {
        "colab_type": "code",
        "id": "whlkvctL9gsR",
        "colab": {
          "base_uri": "https://localhost:8080/",
          "height": 311
        },
        "outputId": "9ebcae65-c5d5-4db7-bbc3-0c8ee9f6e918"
      },
      "source": [
        "df = df.iloc[:, [0, 1, 2, 3, 5, 6, 8, 10, 12, 26]]\n",
        "df.info()"
      ],
      "execution_count": 8,
      "outputs": [
        {
          "output_type": "stream",
          "text": [
            "<class 'pandas.core.frame.DataFrame'>\n",
            "RangeIndex: 669 entries, 0 to 668\n",
            "Data columns (total 10 columns):\n",
            " #   Column                           Non-Null Count  Dtype  \n",
            "---  ------                           --------------  -----  \n",
            " 0   Age                              669 non-null    int64  \n",
            " 1   Number of sexual partners        669 non-null    float64\n",
            " 2   First sexual intercourse         669 non-null    float64\n",
            " 3   Num of pregnancies               669 non-null    float64\n",
            " 4   Smokes (years)                   668 non-null    float64\n",
            " 5   Smokes (packs/year)              668 non-null    float64\n",
            " 6   Hormonal Contraceptives (years)  669 non-null    float64\n",
            " 7   IUD (years)                      669 non-null    float64\n",
            " 8   STDs (number)                    669 non-null    float64\n",
            " 9   Dx:Cancer                        669 non-null    int64  \n",
            "dtypes: float64(8), int64(2)\n",
            "memory usage: 52.4 KB\n"
          ],
          "name": "stdout"
        }
      ]
    },
    {
      "cell_type": "markdown",
      "metadata": {
        "colab_type": "text",
        "id": "2-afZtBTgQB3"
      },
      "source": [
        "Split data first to avoid any manipulation to testing data.  \n",
        "We'll only use the data with no missing values for our testing data set."
      ]
    },
    {
      "cell_type": "code",
      "metadata": {
        "colab_type": "code",
        "id": "SNTL2dK7gLam",
        "colab": {
          "base_uri": "https://localhost:8080/",
          "height": 69
        },
        "outputId": "0e92b46a-9bca-4687-e2b4-83c730f7d7c9"
      },
      "source": [
        "df_clean = df.dropna()\n",
        "df_clean['Dx:Cancer'].value_counts()"
      ],
      "execution_count": 9,
      "outputs": [
        {
          "output_type": "execute_result",
          "data": {
            "text/plain": [
              "0    651\n",
              "1     17\n",
              "Name: Dx:Cancer, dtype: int64"
            ]
          },
          "metadata": {
            "tags": []
          },
          "execution_count": 9
        }
      ]
    },
    {
      "cell_type": "code",
      "metadata": {
        "colab_type": "code",
        "id": "WPJ-aGX7lnbg",
        "colab": {}
      },
      "source": [
        "X_train, X_test, y_train, y_test = tts(df_clean.drop(columns = ['Dx:Cancer']), df_clean['Dx:Cancer'], test_size = 10/45, \n",
        "                                       stratify = df_clean['Dx:Cancer'])\n",
        "train = df.drop(X_test.index)\n",
        "X_train = train.drop(columns = ['Dx:Cancer'])\n",
        "y_train = train['Dx:Cancer'].copy()"
      ],
      "execution_count": 10,
      "outputs": []
    },
    {
      "cell_type": "markdown",
      "metadata": {
        "colab_type": "text",
        "id": "S-MRYvfUfDNm"
      },
      "source": [
        "Imputation for completing missing values using k-Nearest Neighbors."
      ]
    },
    {
      "cell_type": "code",
      "metadata": {
        "colab_type": "code",
        "id": "AGcE9OkTfH6O",
        "colab": {
          "base_uri": "https://localhost:8080/",
          "height": 294
        },
        "outputId": "113ae6a4-5f32-4fad-f6eb-72742936f1ef"
      },
      "source": [
        "X_train = pd.DataFrame(imp().fit_transform(X_train), columns = X_train.columns)\n",
        "X_train.info()"
      ],
      "execution_count": 11,
      "outputs": [
        {
          "output_type": "stream",
          "text": [
            "<class 'pandas.core.frame.DataFrame'>\n",
            "RangeIndex: 520 entries, 0 to 519\n",
            "Data columns (total 9 columns):\n",
            " #   Column                           Non-Null Count  Dtype  \n",
            "---  ------                           --------------  -----  \n",
            " 0   Age                              520 non-null    float64\n",
            " 1   Number of sexual partners        520 non-null    float64\n",
            " 2   First sexual intercourse         520 non-null    float64\n",
            " 3   Num of pregnancies               520 non-null    float64\n",
            " 4   Smokes (years)                   520 non-null    float64\n",
            " 5   Smokes (packs/year)              520 non-null    float64\n",
            " 6   Hormonal Contraceptives (years)  520 non-null    float64\n",
            " 7   IUD (years)                      520 non-null    float64\n",
            " 8   STDs (number)                    520 non-null    float64\n",
            "dtypes: float64(9)\n",
            "memory usage: 36.7 KB\n"
          ],
          "name": "stdout"
        }
      ]
    },
    {
      "cell_type": "code",
      "metadata": {
        "colab_type": "code",
        "id": "MugdRzSAr5lS",
        "colab": {}
      },
      "source": [
        "X_train = X_train.astype(int)"
      ],
      "execution_count": 12,
      "outputs": []
    },
    {
      "cell_type": "markdown",
      "metadata": {
        "colab_type": "text",
        "id": "n-ZYlh7mj8-K"
      },
      "source": [
        "# EDA"
      ]
    },
    {
      "cell_type": "markdown",
      "metadata": {
        "id": "r9N6wRaQonYK",
        "colab_type": "text"
      },
      "source": [
        "### Check for skewness with histogram"
      ]
    },
    {
      "cell_type": "code",
      "metadata": {
        "id": "F-_oOH-6mD8d",
        "colab_type": "code",
        "colab": {
          "base_uri": "https://localhost:8080/",
          "height": 607
        },
        "outputId": "73f0e551-c9d7-43fe-d38a-049f117eead2"
      },
      "source": [
        "p = df_raw[X_train.columns].hist(figsize = (10, 10))"
      ],
      "execution_count": 13,
      "outputs": [
        {
          "output_type": "display_data",
          "data": {
            "image/png": "[encoded data removed]",
            "text/plain": [
              "<Figure size 720x720 with 9 Axes>"
            ]
          },
          "metadata": {
            "tags": []
          }
        }
      ]
    },
    {
      "cell_type": "markdown",
      "metadata": {
        "id": "nfudrul-omVm",
        "colab_type": "text"
      },
      "source": [
        "All columns seem to be right skewed. In addition, HC, IUD, number of sexual partners, STDs, smokes columns seems to be skewed a lot with most values being 0.  \n",
        "We might need to do some processing to reduce the skewness."
      ]
    },
    {
      "cell_type": "markdown",
      "metadata": {
        "colab_type": "text",
        "id": "itece6Qh4bwx"
      },
      "source": [
        "### Check for outliers."
      ]
    },
    {
      "cell_type": "code",
      "metadata": {
        "colab_type": "code",
        "id": "Pfx3RSRX4fSo",
        "colab": {
          "base_uri": "https://localhost:8080/",
          "height": 279
        },
        "outputId": "55d8138d-d069-4304-d854-d4be27c55e8b"
      },
      "source": [
        "gdf = skl.preprocessing.MinMaxScaler().fit_transform(df_raw.rename(columns={'Smokes': 'smokes'})[X_train.columns])\n",
        "gdf = pd.DataFrame(gdf, columns = X_train.columns).melt()\n",
        "sns.boxplot('value', 'variable', data = gdf)\n",
        "plt.xlabel('Scaled to between 0 and 1')\n",
        "p = plt.ylabel('')"
      ],
      "execution_count": 102,
      "outputs": [
        {
          "output_type": "display_data",
          "data": {
            "image/png": "[encoded data removed]",
            "text/plain": [
              "<Figure size 432x288 with 1 Axes>"
            ]
          },
          "metadata": {
            "tags": []
          }
        }
      ]
    },
    {
      "cell_type": "markdown",
      "metadata": {
        "colab_type": "text",
        "id": "6I45p-1c6_1s"
      },
      "source": [
        "During modeling, we might need to try dealing with outliers."
      ]
    },
    {
      "cell_type": "markdown",
      "metadata": {
        "id": "s0e2ASvesVid",
        "colab_type": "text"
      },
      "source": [
        "### Check for Dx:Cancer to different features relationships."
      ]
    },
    {
      "cell_type": "code",
      "metadata": {
        "id": "JaKOek_5Aw7S",
        "colab_type": "code",
        "colab": {
          "base_uri": "https://localhost:8080/",
          "height": 300
        },
        "outputId": "24e9dfa8-b30b-4c53-f7f6-cd9e7ac504f4"
      },
      "source": [
        "sns.boxplot('Dx:Cancer', 'Number of sexual partners', data = df_raw);plt.ylim(top=7)"
      ],
      "execution_count": 112,
      "outputs": [
        {
          "output_type": "execute_result",
          "data": {
            "text/plain": [
              "(-0.3500000000000001, 7.0)"
            ]
          },
          "metadata": {
            "tags": []
          },
          "execution_count": 112
        },
        {
          "output_type": "display_data",
          "data": {
            "image/png": "[encoded data removed]",
            "text/plain": [
              "<Figure size 432x288 with 1 Axes>"
            ]
          },
          "metadata": {
            "tags": []
          }
        }
      ]
    },
    {
      "cell_type": "code",
      "metadata": {
        "id": "fmNJygq7BK_w",
        "colab_type": "code",
        "colab": {
          "base_uri": "https://localhost:8080/",
          "height": 86
        },
        "outputId": "ba957dae-9dca-4636-bd80-9f7a1f98a6f9"
      },
      "source": [
        "X_train.columns"
      ],
      "execution_count": 104,
      "outputs": [
        {
          "output_type": "execute_result",
          "data": {
            "text/plain": [
              "Index(['Age', 'Number of sexual partners', 'First sexual intercourse',\n",
              "       'Num of pregnancies', 'Hormonal Contraceptives (years)', 'IUD (years)',\n",
              "       'STDs (number)', 'smokes'],\n",
              "      dtype='object')"
            ]
          },
          "metadata": {
            "tags": []
          },
          "execution_count": 104
        }
      ]
    },
    {
      "cell_type": "code",
      "metadata": {
        "id": "8-jRcsWRnCmq",
        "colab_type": "code",
        "colab": {
          "base_uri": "https://localhost:8080/",
          "height": 518
        },
        "outputId": "a951b38d-a50b-4e26-b1d1-ba4a80ebf2eb"
      },
      "source": [
        "fig, axs = plt.subplots(3, 3, sharex = 1 == 1, figsize = (25, 10))\n",
        "axs = axs.flatten()\n",
        "ax = iter(axs)\n",
        "for col in X_train.columns[:-2]:\n",
        "    a = next(ax)\n",
        "    sns.boxplot('Dx:Cancer', col, ax = a, data = df_raw)\n",
        "    a.set_xlabel('')\n",
        "    a.set_ylabel(col)\n",
        "t = fig.text(0.5, 0.04, 'Dx:Cancer', ha='center', size = 25)\n",
        "axs[1].set_ylim(top = 6)\n",
        "p = axs[6].set_ylim(top = 15)"
      ],
      "execution_count": 15,
      "outputs": [
        {
          "output_type": "display_data",
          "data": {
            "image/png": "[encoded data removed]",
            "text/plain": [
              "<Figure size 1800x720 with 9 Axes>"
            ]
          },
          "metadata": {
            "tags": []
          }
        }
      ]
    },
    {
      "cell_type": "markdown",
      "metadata": {
        "colab_type": "text",
        "id": "8qcC-0divGlg"
      },
      "source": [
        "* People diagnosed with cancer seems to be older than those not diagnosed with cancer on average.\n",
        "* It doesn't seem to be having much difference of the average number of sexual partners between people diagnosed with cancer and those are not.\n",
        "* It seems like people diagnose with cancer have later first sexual intercourse than people not dignosed with cancer.\n",
        "* People diagnosed with cancer seems to be having a little higher number of pregnancies than those not diagnosed with cancer on average.\n",
        "* People diagnosed with cancer seems to be having a little higher HC years than those not diagnosed with cancer on average.\n",
        "* Smokes, HC, IUD, and STDs columns are all mostly 0."
      ]
    },
    {
      "cell_type": "markdown",
      "metadata": {
        "id": "18mfkBP_nnLq",
        "colab_type": "text"
      },
      "source": [
        "### Check features correlations"
      ]
    },
    {
      "cell_type": "code",
      "metadata": {
        "id": "B8I6qLB0nrqx",
        "colab_type": "code",
        "colab": {
          "base_uri": "https://localhost:8080/",
          "height": 479
        },
        "outputId": "9365798d-0c88-450b-8814-3c1fffb7d6bf"
      },
      "source": [
        "plt.figure(figsize = (8, 5))\n",
        "p = sns.heatmap(df_raw[X_train.columns].corr(), cmap=\"RdYlGn_r\")"
      ],
      "execution_count": 16,
      "outputs": [
        {
          "output_type": "display_data",
          "data": {
            "image/png": "[encoded data removed]",
            "text/plain": [
              "<Figure size 576x360 with 2 Axes>"
            ]
          },
          "metadata": {
            "tags": []
          }
        }
      ]
    },
    {
      "cell_type": "markdown",
      "metadata": {
        "id": "zVhUnvVVquMT",
        "colab_type": "text"
      },
      "source": [
        "The only features that are alarmingly correlated to each other are the smokes columns, which is no surprise. These columns will be combined into 1."
      ]
    },
    {
      "cell_type": "markdown",
      "metadata": {
        "colab_type": "text",
        "id": "m6uGquV_4jzr"
      },
      "source": [
        "# Pre-processing"
      ]
    },
    {
      "cell_type": "code",
      "metadata": {
        "colab_type": "code",
        "id": "yuP-m1Ew4xaD",
        "colab": {
          "base_uri": "https://localhost:8080/",
          "height": 294
        },
        "outputId": "b25eb590-1128-46d2-9fa6-187d1f91ea92"
      },
      "source": [
        "X_train.info()"
      ],
      "execution_count": 17,
      "outputs": [
        {
          "output_type": "stream",
          "text": [
            "<class 'pandas.core.frame.DataFrame'>\n",
            "RangeIndex: 520 entries, 0 to 519\n",
            "Data columns (total 9 columns):\n",
            " #   Column                           Non-Null Count  Dtype\n",
            "---  ------                           --------------  -----\n",
            " 0   Age                              520 non-null    int64\n",
            " 1   Number of sexual partners        520 non-null    int64\n",
            " 2   First sexual intercourse         520 non-null    int64\n",
            " 3   Num of pregnancies               520 non-null    int64\n",
            " 4   Smokes (years)                   520 non-null    int64\n",
            " 5   Smokes (packs/year)              520 non-null    int64\n",
            " 6   Hormonal Contraceptives (years)  520 non-null    int64\n",
            " 7   IUD (years)                      520 non-null    int64\n",
            " 8   STDs (number)                    520 non-null    int64\n",
            "dtypes: int64(9)\n",
            "memory usage: 36.7 KB\n"
          ],
          "name": "stdout"
        }
      ]
    },
    {
      "cell_type": "markdown",
      "metadata": {
        "colab_type": "text",
        "id": "mtnZcVu148Ip"
      },
      "source": [
        "## Perform binning"
      ]
    },
    {
      "cell_type": "code",
      "metadata": {
        "colab_type": "code",
        "id": "Rvho7-40itUD",
        "colab": {}
      },
      "source": [
        "X_train_bin = X_train.copy()\n",
        "X_test_bin = X_test.copy()"
      ],
      "execution_count": 18,
      "outputs": []
    },
    {
      "cell_type": "code",
      "metadata": {
        "colab_type": "code",
        "id": "SAUlLMl7498d",
        "colab": {}
      },
      "source": [
        "X_train_bin.Age = X_train_bin.Age.values//10\n",
        "X_test_bin.Age = X_test_bin.Age.values//10"
      ],
      "execution_count": 19,
      "outputs": []
    },
    {
      "cell_type": "code",
      "metadata": {
        "colab_type": "code",
        "id": "pJPy6Prhn2Kw",
        "colab": {
          "base_uri": "https://localhost:8080/",
          "height": 80
        },
        "outputId": "24f61a69-2f2b-44e4-9503-55d69ecc2ef8"
      },
      "source": [
        "X_train_bin[['Number of sexual partners']].describe().T"
      ],
      "execution_count": 20,
      "outputs": [
        {
          "output_type": "execute_result",
          "data": {
            "text/html": [
              "<div>\n",
              "<style scoped>\n",
              "    .dataframe tbody tr th:only-of-type {\n",
              "        vertical-align: middle;\n",
              "    }\n",
              "\n",
              "    .dataframe tbody tr th {\n",
              "        vertical-align: top;\n",
              "    }\n",
              "\n",
              "    .dataframe thead th {\n",
              "        text-align: right;\n",
              "    }\n",
              "</style>\n",
              "<table border=\"1\" class=\"dataframe\">\n",
              "  <thead>\n",
              "    <tr style=\"text-align: right;\">\n",
              "      <th></th>\n",
              "      <th>count</th>\n",
              "      <th>mean</th>\n",
              "      <th>std</th>\n",
              "      <th>min</th>\n",
              "      <th>25%</th>\n",
              "      <th>50%</th>\n",
              "      <th>75%</th>\n",
              "      <th>max</th>\n",
              "    </tr>\n",
              "  </thead>\n",
              "  <tbody>\n",
              "    <tr>\n",
              "      <th>Number of sexual partners</th>\n",
              "      <td>520.0</td>\n",
              "      <td>2.469231</td>\n",
              "      <td>1.319418</td>\n",
              "      <td>1.0</td>\n",
              "      <td>1.0</td>\n",
              "      <td>2.0</td>\n",
              "      <td>3.0</td>\n",
              "      <td>8.0</td>\n",
              "    </tr>\n",
              "  </tbody>\n",
              "</table>\n",
              "</div>"
            ],
            "text/plain": [
              "                           count      mean       std  min  25%  50%  75%  max\n",
              "Number of sexual partners  520.0  2.469231  1.319418  1.0  1.0  2.0  3.0  8.0"
            ]
          },
          "metadata": {
            "tags": []
          },
          "execution_count": 20
        }
      ]
    },
    {
      "cell_type": "code",
      "metadata": {
        "colab_type": "code",
        "id": "wn-VYj27BQwy",
        "colab": {}
      },
      "source": [
        "X_train_bin['Number of sexual partners'] = pd.cut(X_train_bin['Number of sexual partners'], [0, 1, 3, 99], labels = [1, 2, 3]).astype(int)\n",
        "X_test_bin['Number of sexual partners'] = pd.cut(X_test_bin['Number of sexual partners'], [0, 1, 3, 99], labels = [1, 2, 3]).astype(int)"
      ],
      "execution_count": 21,
      "outputs": []
    },
    {
      "cell_type": "code",
      "metadata": {
        "colab_type": "code",
        "id": "9sJr3qUApjUG",
        "colab": {
          "base_uri": "https://localhost:8080/",
          "height": 80
        },
        "outputId": "492135e6-6605-48b0-e524-5d514c10973f"
      },
      "source": [
        "X_train_bin[['First sexual intercourse']].describe().T"
      ],
      "execution_count": 22,
      "outputs": [
        {
          "output_type": "execute_result",
          "data": {
            "text/html": [
              "<div>\n",
              "<style scoped>\n",
              "    .dataframe tbody tr th:only-of-type {\n",
              "        vertical-align: middle;\n",
              "    }\n",
              "\n",
              "    .dataframe tbody tr th {\n",
              "        vertical-align: top;\n",
              "    }\n",
              "\n",
              "    .dataframe thead th {\n",
              "        text-align: right;\n",
              "    }\n",
              "</style>\n",
              "<table border=\"1\" class=\"dataframe\">\n",
              "  <thead>\n",
              "    <tr style=\"text-align: right;\">\n",
              "      <th></th>\n",
              "      <th>count</th>\n",
              "      <th>mean</th>\n",
              "      <th>std</th>\n",
              "      <th>min</th>\n",
              "      <th>25%</th>\n",
              "      <th>50%</th>\n",
              "      <th>75%</th>\n",
              "      <th>max</th>\n",
              "    </tr>\n",
              "  </thead>\n",
              "  <tbody>\n",
              "    <tr>\n",
              "      <th>First sexual intercourse</th>\n",
              "      <td>520.0</td>\n",
              "      <td>17.201923</td>\n",
              "      <td>2.912268</td>\n",
              "      <td>11.0</td>\n",
              "      <td>15.0</td>\n",
              "      <td>17.0</td>\n",
              "      <td>18.0</td>\n",
              "      <td>32.0</td>\n",
              "    </tr>\n",
              "  </tbody>\n",
              "</table>\n",
              "</div>"
            ],
            "text/plain": [
              "                          count       mean       std  ...   50%   75%   max\n",
              "First sexual intercourse  520.0  17.201923  2.912268  ...  17.0  18.0  32.0\n",
              "\n",
              "[1 rows x 8 columns]"
            ]
          },
          "metadata": {
            "tags": []
          },
          "execution_count": 22
        }
      ]
    },
    {
      "cell_type": "code",
      "metadata": {
        "colab_type": "code",
        "id": "ob2LU5GpEoAc",
        "colab": {}
      },
      "source": [
        "X_train_bin['First sexual intercourse'] = pd.cut(X_train_bin['First sexual intercourse'], [9, 16, 25, 99], labels = [1, 2, 3]).astype(int)\n",
        "X_test_bin['First sexual intercourse'] = pd.cut(X_test_bin['First sexual intercourse'], [9, 16, 25, 99], labels = [1, 2, 3]).astype(int)"
      ],
      "execution_count": 23,
      "outputs": []
    },
    {
      "cell_type": "code",
      "metadata": {
        "colab_type": "code",
        "id": "4XCo9luIGx4r",
        "colab": {
          "base_uri": "https://localhost:8080/",
          "height": 80
        },
        "outputId": "8637ecce-4a5c-4fc8-cf9b-3d050c3f4a0f"
      },
      "source": [
        "X_train_bin[['Num of pregnancies']].describe().T"
      ],
      "execution_count": 24,
      "outputs": [
        {
          "output_type": "execute_result",
          "data": {
            "text/html": [
              "<div>\n",
              "<style scoped>\n",
              "    .dataframe tbody tr th:only-of-type {\n",
              "        vertical-align: middle;\n",
              "    }\n",
              "\n",
              "    .dataframe tbody tr th {\n",
              "        vertical-align: top;\n",
              "    }\n",
              "\n",
              "    .dataframe thead th {\n",
              "        text-align: right;\n",
              "    }\n",
              "</style>\n",
              "<table border=\"1\" class=\"dataframe\">\n",
              "  <thead>\n",
              "    <tr style=\"text-align: right;\">\n",
              "      <th></th>\n",
              "      <th>count</th>\n",
              "      <th>mean</th>\n",
              "      <th>std</th>\n",
              "      <th>min</th>\n",
              "      <th>25%</th>\n",
              "      <th>50%</th>\n",
              "      <th>75%</th>\n",
              "      <th>max</th>\n",
              "    </tr>\n",
              "  </thead>\n",
              "  <tbody>\n",
              "    <tr>\n",
              "      <th>Num of pregnancies</th>\n",
              "      <td>520.0</td>\n",
              "      <td>2.265385</td>\n",
              "      <td>1.386264</td>\n",
              "      <td>0.0</td>\n",
              "      <td>1.0</td>\n",
              "      <td>2.0</td>\n",
              "      <td>3.0</td>\n",
              "      <td>7.0</td>\n",
              "    </tr>\n",
              "  </tbody>\n",
              "</table>\n",
              "</div>"
            ],
            "text/plain": [
              "                    count      mean       std  min  25%  50%  75%  max\n",
              "Num of pregnancies  520.0  2.265385  1.386264  0.0  1.0  2.0  3.0  7.0"
            ]
          },
          "metadata": {
            "tags": []
          },
          "execution_count": 24
        }
      ]
    },
    {
      "cell_type": "code",
      "metadata": {
        "colab_type": "code",
        "id": "ZJ5VG8rkHNIi",
        "colab": {}
      },
      "source": [
        "X_train_bin['Num of pregnancies'] = pd.cut(X_train_bin['Num of pregnancies'], [-1, 0, 2, 4, 99], labels = [0, 1, 2, 3]).astype(int)\n",
        "X_test_bin['Num of pregnancies'] = pd.cut(X_test_bin['Num of pregnancies'], [-1, 0, 2, 4, 99], labels = [0, 1, 2, 3]).astype(int)"
      ],
      "execution_count": 25,
      "outputs": []
    },
    {
      "cell_type": "code",
      "metadata": {
        "colab_type": "code",
        "id": "TBbhV1F-JnNA",
        "colab": {
          "base_uri": "https://localhost:8080/",
          "height": 80
        },
        "outputId": "0a5bebb8-de18-4d13-b24c-93cb14b63ccd"
      },
      "source": [
        "X_train_bin[['Hormonal Contraceptives (years)']].describe().T"
      ],
      "execution_count": 26,
      "outputs": [
        {
          "output_type": "execute_result",
          "data": {
            "text/html": [
              "<div>\n",
              "<style scoped>\n",
              "    .dataframe tbody tr th:only-of-type {\n",
              "        vertical-align: middle;\n",
              "    }\n",
              "\n",
              "    .dataframe tbody tr th {\n",
              "        vertical-align: top;\n",
              "    }\n",
              "\n",
              "    .dataframe thead th {\n",
              "        text-align: right;\n",
              "    }\n",
              "</style>\n",
              "<table border=\"1\" class=\"dataframe\">\n",
              "  <thead>\n",
              "    <tr style=\"text-align: right;\">\n",
              "      <th></th>\n",
              "      <th>count</th>\n",
              "      <th>mean</th>\n",
              "      <th>std</th>\n",
              "      <th>min</th>\n",
              "      <th>25%</th>\n",
              "      <th>50%</th>\n",
              "      <th>75%</th>\n",
              "      <th>max</th>\n",
              "    </tr>\n",
              "  </thead>\n",
              "  <tbody>\n",
              "    <tr>\n",
              "      <th>Hormonal Contraceptives (years)</th>\n",
              "      <td>520.0</td>\n",
              "      <td>2.336538</td>\n",
              "      <td>3.94131</td>\n",
              "      <td>0.0</td>\n",
              "      <td>0.0</td>\n",
              "      <td>0.0</td>\n",
              "      <td>3.0</td>\n",
              "      <td>22.0</td>\n",
              "    </tr>\n",
              "  </tbody>\n",
              "</table>\n",
              "</div>"
            ],
            "text/plain": [
              "                                 count      mean      std  ...  50%  75%   max\n",
              "Hormonal Contraceptives (years)  520.0  2.336538  3.94131  ...  0.0  3.0  22.0\n",
              "\n",
              "[1 rows x 8 columns]"
            ]
          },
          "metadata": {
            "tags": []
          },
          "execution_count": 26
        }
      ]
    },
    {
      "cell_type": "code",
      "metadata": {
        "colab_type": "code",
        "id": "ZHO0AtHvnccK",
        "colab": {
          "base_uri": "https://localhost:8080/",
          "height": 398
        },
        "outputId": "9980e4e3-fe21-427b-d59e-1ead9f3766f1"
      },
      "source": [
        "X_train_bin['Hormonal Contraceptives (years)'].value_counts()"
      ],
      "execution_count": 28,
      "outputs": [
        {
          "output_type": "execute_result",
          "data": {
            "text/plain": [
              "0     277\n",
              "1      68\n",
              "2      29\n",
              "5      24\n",
              "3      21\n",
              "6      19\n",
              "7      15\n",
              "4      14\n",
              "8      14\n",
              "9      10\n",
              "10      9\n",
              "15      6\n",
              "12      3\n",
              "20      2\n",
              "11      2\n",
              "16      2\n",
              "13      1\n",
              "14      1\n",
              "17      1\n",
              "19      1\n",
              "22      1\n",
              "Name: Hormonal Contraceptives (years), dtype: int64"
            ]
          },
          "metadata": {
            "tags": []
          },
          "execution_count": 28
        }
      ]
    },
    {
      "cell_type": "code",
      "metadata": {
        "colab_type": "code",
        "id": "rvQKP7_cvFlh",
        "colab": {}
      },
      "source": [
        "X_train_bin['Hormonal Contraceptives (years)'] = pd.cut(X_train_bin['Hormonal Contraceptives (years)'], [-1, 0, 1, 4, 99],\\\n",
        "                                                        labels = [0, 1, 2, 3]).astype(int)\n",
        "X_test_bin['Hormonal Contraceptives (years)'] = pd.cut(X_test_bin['Hormonal Contraceptives (years)'], [-1, 0, 1, 4, 99],\\\n",
        "                                                       labels = [0, 1, 2, 3]).astype(int)"
      ],
      "execution_count": 27,
      "outputs": []
    },
    {
      "cell_type": "code",
      "metadata": {
        "colab_type": "code",
        "id": "bq99-YEI5pHZ",
        "colab": {
          "base_uri": "https://localhost:8080/",
          "height": 80
        },
        "outputId": "d222c584-f2e8-4250-c228-48d5a9636567"
      },
      "source": [
        "X_train_bin[['STDs (number)']].describe().T"
      ],
      "execution_count": 28,
      "outputs": [
        {
          "output_type": "execute_result",
          "data": {
            "text/html": [
              "<div>\n",
              "<style scoped>\n",
              "    .dataframe tbody tr th:only-of-type {\n",
              "        vertical-align: middle;\n",
              "    }\n",
              "\n",
              "    .dataframe tbody tr th {\n",
              "        vertical-align: top;\n",
              "    }\n",
              "\n",
              "    .dataframe thead th {\n",
              "        text-align: right;\n",
              "    }\n",
              "</style>\n",
              "<table border=\"1\" class=\"dataframe\">\n",
              "  <thead>\n",
              "    <tr style=\"text-align: right;\">\n",
              "      <th></th>\n",
              "      <th>count</th>\n",
              "      <th>mean</th>\n",
              "      <th>std</th>\n",
              "      <th>min</th>\n",
              "      <th>25%</th>\n",
              "      <th>50%</th>\n",
              "      <th>75%</th>\n",
              "      <th>max</th>\n",
              "    </tr>\n",
              "  </thead>\n",
              "  <tbody>\n",
              "    <tr>\n",
              "      <th>STDs (number)</th>\n",
              "      <td>520.0</td>\n",
              "      <td>0.165385</td>\n",
              "      <td>0.547858</td>\n",
              "      <td>0.0</td>\n",
              "      <td>0.0</td>\n",
              "      <td>0.0</td>\n",
              "      <td>0.0</td>\n",
              "      <td>4.0</td>\n",
              "    </tr>\n",
              "  </tbody>\n",
              "</table>\n",
              "</div>"
            ],
            "text/plain": [
              "               count      mean       std  min  25%  50%  75%  max\n",
              "STDs (number)  520.0  0.165385  0.547858  0.0  0.0  0.0  0.0  4.0"
            ]
          },
          "metadata": {
            "tags": []
          },
          "execution_count": 28
        }
      ]
    },
    {
      "cell_type": "code",
      "metadata": {
        "colab_type": "code",
        "id": "1xT3Mupl5rKE",
        "colab": {
          "base_uri": "https://localhost:8080/",
          "height": 121
        },
        "outputId": "42e13ece-826b-4f84-e175-3a0f231d24ad"
      },
      "source": [
        "X_train_bin['STDs (number)'].value_counts()"
      ],
      "execution_count": 31,
      "outputs": [
        {
          "output_type": "execute_result",
          "data": {
            "text/plain": [
              "0    467\n",
              "2     26\n",
              "1     23\n",
              "3      3\n",
              "4      1\n",
              "Name: STDs (number), dtype: int64"
            ]
          },
          "metadata": {
            "tags": []
          },
          "execution_count": 31
        }
      ]
    },
    {
      "cell_type": "markdown",
      "metadata": {
        "colab_type": "text",
        "id": "kXe7K4LJ58R5"
      },
      "source": [
        "STDs (number) column almost contains all 0, so anything not 0 we'll just indicate with 1."
      ]
    },
    {
      "cell_type": "code",
      "metadata": {
        "colab_type": "code",
        "id": "iJAE9tjG53dO",
        "colab": {}
      },
      "source": [
        "X_train_bin['STDs (number)'] = (X_train_bin['STDs (number)'].values > 0).astype(int)\n",
        "X_test_bin['STDs (number)'] = (X_test_bin['STDs (number)'].values > 0).astype(int)"
      ],
      "execution_count": 29,
      "outputs": []
    },
    {
      "cell_type": "code",
      "metadata": {
        "colab_type": "code",
        "id": "087ICKe315rJ",
        "colab": {
          "base_uri": "https://localhost:8080/",
          "height": 80
        },
        "outputId": "f67549c3-640e-45c1-8af3-33aeb80e8e52"
      },
      "source": [
        "X_train_bin[['IUD (years)']].describe().T"
      ],
      "execution_count": 33,
      "outputs": [
        {
          "output_type": "execute_result",
          "data": {
            "text/html": [
              "<div>\n",
              "<style scoped>\n",
              "    .dataframe tbody tr th:only-of-type {\n",
              "        vertical-align: middle;\n",
              "    }\n",
              "\n",
              "    .dataframe tbody tr th {\n",
              "        vertical-align: top;\n",
              "    }\n",
              "\n",
              "    .dataframe thead th {\n",
              "        text-align: right;\n",
              "    }\n",
              "</style>\n",
              "<table border=\"1\" class=\"dataframe\">\n",
              "  <thead>\n",
              "    <tr style=\"text-align: right;\">\n",
              "      <th></th>\n",
              "      <th>count</th>\n",
              "      <th>mean</th>\n",
              "      <th>std</th>\n",
              "      <th>min</th>\n",
              "      <th>25%</th>\n",
              "      <th>50%</th>\n",
              "      <th>75%</th>\n",
              "      <th>max</th>\n",
              "    </tr>\n",
              "  </thead>\n",
              "  <tbody>\n",
              "    <tr>\n",
              "      <th>IUD (years)</th>\n",
              "      <td>520.0</td>\n",
              "      <td>0.563462</td>\n",
              "      <td>2.095001</td>\n",
              "      <td>0.0</td>\n",
              "      <td>0.0</td>\n",
              "      <td>0.0</td>\n",
              "      <td>0.0</td>\n",
              "      <td>19.0</td>\n",
              "    </tr>\n",
              "  </tbody>\n",
              "</table>\n",
              "</div>"
            ],
            "text/plain": [
              "             count      mean       std  min  25%  50%  75%   max\n",
              "IUD (years)  520.0  0.563462  2.095001  0.0  0.0  0.0  0.0  19.0"
            ]
          },
          "metadata": {
            "tags": []
          },
          "execution_count": 33
        }
      ]
    },
    {
      "cell_type": "code",
      "metadata": {
        "colab_type": "code",
        "id": "WYcifqPW2IO3",
        "colab": {
          "base_uri": "https://localhost:8080/",
          "height": 138
        },
        "outputId": "41798793-e0fe-4797-d286-56c6cdbfca0e"
      },
      "source": [
        "X_train_bin['IUD (years)'].value_counts()[:6]"
      ],
      "execution_count": 34,
      "outputs": [
        {
          "output_type": "execute_result",
          "data": {
            "text/plain": [
              "0    469\n",
              "3      9\n",
              "8      7\n",
              "5      6\n",
              "7      5\n",
              "2      5\n",
              "Name: IUD (years), dtype: int64"
            ]
          },
          "metadata": {
            "tags": []
          },
          "execution_count": 34
        }
      ]
    },
    {
      "cell_type": "markdown",
      "metadata": {
        "colab_type": "text",
        "id": "UsSLAYF_2Wz_"
      },
      "source": [
        "IUD (years) column almost contains all 0, so anything not 0 we'll just indicate with 1."
      ]
    },
    {
      "cell_type": "code",
      "metadata": {
        "colab_type": "code",
        "id": "erOr4AzX2j5W",
        "colab": {}
      },
      "source": [
        "X_train_bin['IUD (years)'] = (X_train_bin['IUD (years)'].values > 0).astype(int)\n",
        "X_test_bin['IUD (years)'] = (X_test_bin['IUD (years)'].values > 0).astype(int)"
      ],
      "execution_count": 30,
      "outputs": []
    },
    {
      "cell_type": "markdown",
      "metadata": {
        "colab_type": "text",
        "id": "HsgCWXQTIDiY"
      },
      "source": [
        "\n",
        "## Combine 2 smokes columns"
      ]
    },
    {
      "cell_type": "code",
      "metadata": {
        "colab_type": "code",
        "id": "3dNKEWzwIHi3",
        "colab": {}
      },
      "source": [
        "X_train['smokes'] = X_train['Smokes (packs/year)'].values * X_train['Smokes (years)'].values\n",
        "X_test['smokes'] = X_test['Smokes (packs/year)'].values * X_test['Smokes (years)'].values\n",
        "X_train.drop(columns = ['Smokes (years)', 'Smokes (packs/year)'], inplace = 1 == 1)\n",
        "X_test.drop(columns = ['Smokes (years)', 'Smokes (packs/year)'], inplace = 1 == 1)\n",
        "X_train_bin['smokes'] = X_train_bin['Smokes (packs/year)'].values * X_train_bin['Smokes (years)'].values\n",
        "X_test_bin['smokes'] = X_test_bin['Smokes (packs/year)'].values * X_test_bin['Smokes (years)'].values\n",
        "X_train_bin.drop(columns = ['Smokes (years)', 'Smokes (packs/year)'], inplace = 1 == 1)\n",
        "X_test_bin.drop(columns = ['Smokes (years)', 'Smokes (packs/year)'], inplace = 1 == 1)"
      ],
      "execution_count": 31,
      "outputs": []
    },
    {
      "cell_type": "code",
      "metadata": {
        "colab_type": "code",
        "id": "C73NnFqqxsFX",
        "colab": {
          "base_uri": "https://localhost:8080/",
          "height": 80
        },
        "outputId": "3b7e6a07-22f1-4ddc-bbd4-8d0b70125b90"
      },
      "source": [
        "X_train_bin[['smokes']].describe().T"
      ],
      "execution_count": 32,
      "outputs": [
        {
          "output_type": "execute_result",
          "data": {
            "text/html": [
              "<div>\n",
              "<style scoped>\n",
              "    .dataframe tbody tr th:only-of-type {\n",
              "        vertical-align: middle;\n",
              "    }\n",
              "\n",
              "    .dataframe tbody tr th {\n",
              "        vertical-align: top;\n",
              "    }\n",
              "\n",
              "    .dataframe thead th {\n",
              "        text-align: right;\n",
              "    }\n",
              "</style>\n",
              "<table border=\"1\" class=\"dataframe\">\n",
              "  <thead>\n",
              "    <tr style=\"text-align: right;\">\n",
              "      <th></th>\n",
              "      <th>count</th>\n",
              "      <th>mean</th>\n",
              "      <th>std</th>\n",
              "      <th>min</th>\n",
              "      <th>25%</th>\n",
              "      <th>50%</th>\n",
              "      <th>75%</th>\n",
              "      <th>max</th>\n",
              "    </tr>\n",
              "  </thead>\n",
              "  <tbody>\n",
              "    <tr>\n",
              "      <th>smokes</th>\n",
              "      <td>520.0</td>\n",
              "      <td>5.492308</td>\n",
              "      <td>37.070936</td>\n",
              "      <td>0.0</td>\n",
              "      <td>0.0</td>\n",
              "      <td>0.0</td>\n",
              "      <td>0.0</td>\n",
              "      <td>484.0</td>\n",
              "    </tr>\n",
              "  </tbody>\n",
              "</table>\n",
              "</div>"
            ],
            "text/plain": [
              "        count      mean        std  min  25%  50%  75%    max\n",
              "smokes  520.0  5.492308  37.070936  0.0  0.0  0.0  0.0  484.0"
            ]
          },
          "metadata": {
            "tags": []
          },
          "execution_count": 32
        }
      ]
    },
    {
      "cell_type": "code",
      "metadata": {
        "colab_type": "code",
        "id": "MigoXYSn0mKI",
        "colab": {
          "base_uri": "https://localhost:8080/",
          "height": 207
        },
        "outputId": "ea2fad3b-6c2c-46d3-80ef-a4608a13eb92"
      },
      "source": [
        "X_train_bin['smokes'].value_counts()[:10]"
      ],
      "execution_count": 38,
      "outputs": [
        {
          "output_type": "execute_result",
          "data": {
            "text/plain": [
              "0     472\n",
              "2       4\n",
              "16      4\n",
              "9       3\n",
              "36      2\n",
              "6       2\n",
              "7       2\n",
              "18      2\n",
              "22      2\n",
              "28      2\n",
              "Name: smokes, dtype: int64"
            ]
          },
          "metadata": {
            "tags": []
          },
          "execution_count": 38
        }
      ]
    },
    {
      "cell_type": "markdown",
      "metadata": {
        "colab_type": "text",
        "id": "LristWLj0VMx"
      },
      "source": [
        "smokes column almost contains all 0, so anything not 0 we'll just indicate with 1."
      ]
    },
    {
      "cell_type": "code",
      "metadata": {
        "colab_type": "code",
        "id": "WM0GDQq50SdS",
        "colab": {}
      },
      "source": [
        "X_train_bin.smokes = (X_train_bin.smokes.values > 0).astype(int)\n",
        "X_test_bin.smokes = (X_test_bin.smokes.values > 0).astype(int)"
      ],
      "execution_count": 33,
      "outputs": []
    },
    {
      "cell_type": "markdown",
      "metadata": {
        "colab_type": "text",
        "id": "X9vLAWBI84Bz"
      },
      "source": [
        "## Use Smote Algorithm to deal with imbalance data."
      ]
    },
    {
      "cell_type": "code",
      "metadata": {
        "colab_type": "code",
        "id": "xcmSq1j29kqR",
        "colab": {}
      },
      "source": [
        "X_smote_bin, y_smote_bin = smote().fit_resample(X_train_bin, y_train)\n",
        "X_smote, y_smote = smote().fit_resample(X_train, y_train)\n",
        "X_smote_bin = pd.DataFrame(X_smote_bin, columns = X_train_bin.columns)\n",
        "X_smote = pd.DataFrame(X_smote, columns = X_train.columns)"
      ],
      "execution_count": null,
      "outputs": []
    },
    {
      "cell_type": "markdown",
      "metadata": {
        "id": "tlDpMYmAxAII",
        "colab_type": "text"
      },
      "source": [
        "### Scale data"
      ]
    },
    {
      "cell_type": "code",
      "metadata": {
        "id": "AAcS2P93w_0I",
        "colab_type": "code",
        "colab": {}
      },
      "source": [
        "scaler = skl.preprocessing.MinMaxScaler()\n",
        "scaler.fit(X_smote)\n",
        "X_smote_scale = pd.DataFrame(scaler.transform(X_smote), columns = X_smote.columns)\n",
        "X_test_scale = pd.DataFrame(scaler.transform(X_test), columns = X_smote.columns)"
      ],
      "execution_count": 35,
      "outputs": []
    },
    {
      "cell_type": "markdown",
      "metadata": {
        "colab_type": "text",
        "id": "N-ae2FaVOgxL"
      },
      "source": [
        "# Modeling"
      ]
    },
    {
      "cell_type": "code",
      "metadata": {
        "colab_type": "code",
        "id": "iIIYAQf2_X89",
        "colab": {}
      },
      "source": [
        "grids = {\n",
        "    'Random Forest': {'n_estimators': [50, 100, 200, 500], \n",
        "                     'criterion': ['gini', 'entropy'], \n",
        "                     'min_samples_split': [2, 5, 10, 20]},\n",
        "    \n",
        "    'Ada Boosted Decision Tree': {'n_estimators': [50, 100, 200, 500], \n",
        "                     'learning_rate': [0.0001, 0.001, 0.01, 0.1, 1, 10], \n",
        "                     'algorithm': ['SAMME', 'SAMME.R']},\n",
        "         \n",
        "    'Gradient Boosted Decision Tree': {'learning_rate': [.0001, 0.001, 0.01, 0.1, 0.2, 0.3],\n",
        "                                       'n_estimators': [20, 50, 100, 200],\n",
        "                                       'criterion': ['friedman_mse', 'mse', 'mae'],\n",
        "                                       'min_samples_split': [2, 5, 10, 20],\n",
        "                                       'max_depth': [3, 5, 7]},\n",
        "         \n",
        "    'SVM': {'C': [10**p for p in range(-2, 3)],\n",
        "            'kernel': ['linear', 'poly', 'rbf', 'sigmoid'],\n",
        "            'degree': [2, 3 , 4],\n",
        "            'gamma': ['scale', 'auto'],\n",
        "            'class_weight': [{0:.3, 1:.7}, {0:.2, 1:.8}, {0:.4, 1:.6}, None]},\n",
        "    \n",
        "    'KNN': {'n_neighbors': [3, 5, 8 , 10, 20],\n",
        "            'algorithm': ['auto', 'ball_tree', 'kd_tree', 'brute'],\n",
        "            'leaf_size': [20, 25, 30 , 35, 40],\n",
        "            'p': range(1, X_smote_bin.shape[0] + 1),\n",
        "            'weights': ['uniform', 'distance']},\n",
        "    \n",
        "    'Logistic Regression': {'C':  [10**p for p in range(-2, 3)],\n",
        "                            'class_weight': [{0:.3, 1:.7}, {0:.2, 1:.8}, {0:.4, 1:.6}, None],\n",
        "                            'solver': ['newton-cg', 'lbfgs', 'liblinear', 'sag', 'saga'],\n",
        "                            'penalty': ['l1', 'l2', 'elasticnet']},\n",
        "    \n",
        "    'Ridge Regression Classifier': {'alpha': [.1, 1, 1.5, 2, 2.5],\n",
        "                                    'class_weight': [{0:.3, 1:.7}, {0:.2, 1:.8}, {0:.4, 1:.6}, None],\n",
        "                                    'solver': ['auto', 'svd', 'cholesky', 'lsqr', 'sparse_cg', 'sag', 'saga']}\n",
        "}\n",
        "clfs = [skl.ensemble.RandomForestClassifier(), skl.ensemble.AdaBoostClassifier(), \n",
        "                                       skl.ensemble.GradientBoostingClassifier(),skl.svm.SVC(), skl.neighbors.KNeighborsClassifier(), \n",
        "                                       skl.linear_model.LogisticRegression(), skl.linear_model.RidgeClassifier()]\n",
        "score = skl.metrics.make_scorer(skl.metrics.f1_score)"
      ],
      "execution_count": 36,
      "outputs": []
    },
    {
      "cell_type": "markdown",
      "metadata": {
        "id": "B_Z5fDknuoyF",
        "colab_type": "text"
      },
      "source": [
        "### Use the unbinned scaled data with SMOTE for model selection."
      ]
    },
    {
      "cell_type": "code",
      "metadata": {
        "id": "DvBUMKXdHhI8",
        "colab_type": "code",
        "colab": {
          "base_uri": "https://localhost:8080/",
          "height": 268
        },
        "outputId": "e48c9525-2ad3-4b21-f063-70aa510c618b"
      },
      "source": [
        "scores = []\n",
        "params = []\n",
        "for grid, mod in zip(grids.values(), clfs):\n",
        "    clf = skl.model_selection.RandomizedSearchCV(mod, grid, scoring = score, cv = 3)\n",
        "    search = clf.fit(X_smote_scale, y_smote)\n",
        "    params += [search.best_params_]\n",
        "    scores += [search.best_score_.round(2)]\n",
        "df_models = pd.DataFrame({'model': list(grids.keys()), 'cv_score_recall': scores, 'parameters': params, 'note': 'Scaled'})\n",
        "df_models"
      ],
      "execution_count": 113,
      "outputs": [
        {
          "output_type": "execute_result",
          "data": {
            "text/html": [
              "<div>\n",
              "<style scoped>\n",
              "    .dataframe tbody tr th:only-of-type {\n",
              "        vertical-align: middle;\n",
              "    }\n",
              "\n",
              "    .dataframe tbody tr th {\n",
              "        vertical-align: top;\n",
              "    }\n",
              "\n",
              "    .dataframe thead th {\n",
              "        text-align: right;\n",
              "    }\n",
              "</style>\n",
              "<table border=\"1\" class=\"dataframe\">\n",
              "  <thead>\n",
              "    <tr style=\"text-align: right;\">\n",
              "      <th></th>\n",
              "      <th>model</th>\n",
              "      <th>cv_score_recall</th>\n",
              "      <th>parameters</th>\n",
              "      <th>note</th>\n",
              "    </tr>\n",
              "  </thead>\n",
              "  <tbody>\n",
              "    <tr>\n",
              "      <th>0</th>\n",
              "      <td>Random Forest</td>\n",
              "      <td>0.94</td>\n",
              "      <td>{'n_estimators': 500, 'min_samples_split': 2, ...</td>\n",
              "      <td>Scaled</td>\n",
              "    </tr>\n",
              "    <tr>\n",
              "      <th>1</th>\n",
              "      <td>Ada Boosted Decision Tree</td>\n",
              "      <td>0.86</td>\n",
              "      <td>{'n_estimators': 100, 'learning_rate': 1, 'alg...</td>\n",
              "      <td>Scaled</td>\n",
              "    </tr>\n",
              "    <tr>\n",
              "      <th>2</th>\n",
              "      <td>Gradient Boosted Decision Tree</td>\n",
              "      <td>0.93</td>\n",
              "      <td>{'n_estimators': 200, 'min_samples_split': 20,...</td>\n",
              "      <td>Scaled</td>\n",
              "    </tr>\n",
              "    <tr>\n",
              "      <th>3</th>\n",
              "      <td>SVM</td>\n",
              "      <td>0.82</td>\n",
              "      <td>{'kernel': 'rbf', 'gamma': 'auto', 'degree': 2...</td>\n",
              "      <td>Scaled</td>\n",
              "    </tr>\n",
              "    <tr>\n",
              "      <th>4</th>\n",
              "      <td>KNN</td>\n",
              "      <td>0.88</td>\n",
              "      <td>{'weights': 'distance', 'p': 120, 'n_neighbors...</td>\n",
              "      <td>Scaled</td>\n",
              "    </tr>\n",
              "    <tr>\n",
              "      <th>5</th>\n",
              "      <td>Logistic Regression</td>\n",
              "      <td>0.71</td>\n",
              "      <td>{'solver': 'newton-cg', 'penalty': 'l2', 'clas...</td>\n",
              "      <td>Scaled</td>\n",
              "    </tr>\n",
              "    <tr>\n",
              "      <th>6</th>\n",
              "      <td>Ridge Regression Classifier</td>\n",
              "      <td>0.75</td>\n",
              "      <td>{'solver': 'svd', 'class_weight': {0: 0.4, 1: ...</td>\n",
              "      <td>Scaled</td>\n",
              "    </tr>\n",
              "  </tbody>\n",
              "</table>\n",
              "</div>"
            ],
            "text/plain": [
              "                            model  ...    note\n",
              "0                   Random Forest  ...  Scaled\n",
              "1       Ada Boosted Decision Tree  ...  Scaled\n",
              "2  Gradient Boosted Decision Tree  ...  Scaled\n",
              "3                             SVM  ...  Scaled\n",
              "4                             KNN  ...  Scaled\n",
              "5             Logistic Regression  ...  Scaled\n",
              "6     Ridge Regression Classifier  ...  Scaled\n",
              "\n",
              "[7 rows x 4 columns]"
            ]
          },
          "metadata": {
            "tags": []
          },
          "execution_count": 113
        }
      ]
    },
    {
      "cell_type": "markdown",
      "metadata": {
        "id": "tQCCLFMq1rnf",
        "colab_type": "text"
      },
      "source": [
        "Seems like Random Forest and GB Decision tree has the best predicting power. We'll just use Random Forest."
      ]
    },
    {
      "cell_type": "code",
      "metadata": {
        "id": "psMFG4bXjqdP",
        "colab_type": "code",
        "colab": {}
      },
      "source": [
        "best_params = df_models.parameters[0]"
      ],
      "execution_count": 42,
      "outputs": []
    },
    {
      "cell_type": "markdown",
      "metadata": {
        "id": "sg0J-QNj4Tcu",
        "colab_type": "text"
      },
      "source": [
        "### Scaling doesn't matter for Random Forest, but let's double check."
      ]
    },
    {
      "cell_type": "code",
      "metadata": {
        "colab_type": "code",
        "id": "F5Zf-wa14fUx",
        "colab": {
          "base_uri": "https://localhost:8080/",
          "height": 34
        },
        "outputId": "3c1596c9-61df-4462-cd0c-1f6bd09e9b65"
      },
      "source": [
        "clf = skl.ensemble.RandomForestClassifier(**best_params)\n",
        "skl.model_selection.cross_val_score(clf, X_smote, y_smote, scoring = score, cv = 3).mean().round(2)"
      ],
      "execution_count": 44,
      "outputs": [
        {
          "output_type": "execute_result",
          "data": {
            "text/plain": [
              "0.94"
            ]
          },
          "metadata": {
            "tags": []
          },
          "execution_count": 44
        }
      ]
    },
    {
      "cell_type": "markdown",
      "metadata": {
        "id": "IZvGKo-N2LYc",
        "colab_type": "text"
      },
      "source": [
        "### Check if using binned data improve the predicting power of Random Forest."
      ]
    },
    {
      "cell_type": "code",
      "metadata": {
        "id": "-l8E01MR2Uyg",
        "colab_type": "code",
        "colab": {
          "base_uri": "https://localhost:8080/",
          "height": 34
        },
        "outputId": "63f47e18-9247-4c17-ecee-20404f108490"
      },
      "source": [
        "clf = skl.ensemble.RandomForestClassifier(**best_params)\n",
        "skl.model_selection.cross_val_score(clf, X_smote_bin, y_smote_bin, scoring = score, cv = 3).mean().round(2)"
      ],
      "execution_count": 45,
      "outputs": [
        {
          "output_type": "execute_result",
          "data": {
            "text/plain": [
              "0.91"
            ]
          },
          "metadata": {
            "tags": []
          },
          "execution_count": 45
        }
      ]
    },
    {
      "cell_type": "markdown",
      "metadata": {
        "id": "FQ7DYZoU3vxO",
        "colab_type": "text"
      },
      "source": [
        "Binning data seems to reduce the model's predicting power."
      ]
    },
    {
      "cell_type": "markdown",
      "metadata": {
        "id": "8KndwBnNwQgG",
        "colab_type": "text"
      },
      "source": [
        "### Random Forest is robust to skewed features, but lets just double check."
      ]
    },
    {
      "cell_type": "code",
      "metadata": {
        "colab_type": "code",
        "id": "gG4Cw253ILre",
        "colab": {
          "base_uri": "https://localhost:8080/",
          "height": 173
        },
        "outputId": "630e2c9a-0dd9-4d24-94dd-9b556f7c2824"
      },
      "source": [
        "X_smote.skew()"
      ],
      "execution_count": 46,
      "outputs": [
        {
          "output_type": "execute_result",
          "data": {
            "text/plain": [
              "Age                                 0.205773\n",
              "Number of sexual partners           0.854807\n",
              "First sexual intercourse            1.338728\n",
              "Num of pregnancies                  1.049149\n",
              "Hormonal Contraceptives (years)     2.064970\n",
              "IUD (years)                         3.373078\n",
              "STDs (number)                       4.820975\n",
              "smokes                             13.872667\n",
              "dtype: float64"
            ]
          },
          "metadata": {
            "tags": []
          },
          "execution_count": 46
        }
      ]
    },
    {
      "cell_type": "markdown",
      "metadata": {
        "id": "26TKsR_nxIYW",
        "colab_type": "text"
      },
      "source": [
        "Log tranform to reduce skewness"
      ]
    },
    {
      "cell_type": "code",
      "metadata": {
        "id": "rVMdreMIwurv",
        "colab_type": "code",
        "colab": {
          "base_uri": "https://localhost:8080/",
          "height": 173
        },
        "outputId": "66927fa8-8da2-4ab8-b989-8179f338e0ad"
      },
      "source": [
        "def log_trans(x):\n",
        "    if x == 0: return np.log(.00000001)\n",
        "    return np.log(x)\n",
        "X_smote_log = X_smote.applymap(log_trans)\n",
        "X_smote_log.skew()"
      ],
      "execution_count": 47,
      "outputs": [
        {
          "output_type": "execute_result",
          "data": {
            "text/plain": [
              "Age                               -0.411387\n",
              "Number of sexual partners         -0.312371\n",
              "First sexual intercourse           0.424371\n",
              "Num of pregnancies                -7.894362\n",
              "Hormonal Contraceptives (years)   -0.024516\n",
              "IUD (years)                        0.996258\n",
              "STDs (number)                      3.575545\n",
              "smokes                             3.268745\n",
              "dtype: float64"
            ]
          },
          "metadata": {
            "tags": []
          },
          "execution_count": 47
        }
      ]
    },
    {
      "cell_type": "markdown",
      "metadata": {
        "id": "O9UEv6sghJMz",
        "colab_type": "text"
      },
      "source": [
        "The log transformation helped to reduce the skewness except STDs. "
      ]
    },
    {
      "cell_type": "code",
      "metadata": {
        "colab_type": "code",
        "id": "N6vto0WbiImy",
        "colab": {
          "base_uri": "https://localhost:8080/",
          "height": 34
        },
        "outputId": "7d3da352-ba81-4b31-eb2a-148be0804be3"
      },
      "source": [
        "clf = skl.ensemble.RandomForestClassifier(**best_params)\n",
        "skl.model_selection.cross_val_score(clf, X_smote_log, y_smote, scoring = score, cv = 3).mean().round(2)"
      ],
      "execution_count": 48,
      "outputs": [
        {
          "output_type": "execute_result",
          "data": {
            "text/plain": [
              "0.94"
            ]
          },
          "metadata": {
            "tags": []
          },
          "execution_count": 48
        }
      ]
    },
    {
      "cell_type": "markdown",
      "metadata": {
        "id": "Fz2VjHyoiUeI",
        "colab_type": "text"
      },
      "source": [
        "No effect as expected."
      ]
    },
    {
      "cell_type": "markdown",
      "metadata": {
        "id": "hi7mCcI4mOaj",
        "colab_type": "text"
      },
      "source": [
        "### Try dropping some features"
      ]
    },
    {
      "cell_type": "code",
      "metadata": {
        "colab_type": "code",
        "id": "kmlbIuZHnBg4",
        "colab": {
          "base_uri": "https://localhost:8080/",
          "height": 155
        },
        "outputId": "8a3d376f-8586-4537-b5ff-58b2cd509e84"
      },
      "source": [
        "clf = skl.ensemble.RandomForestClassifier(**best_params)\n",
        "clf.fit(X_smote, y_smote)"
      ],
      "execution_count": 49,
      "outputs": [
        {
          "output_type": "execute_result",
          "data": {
            "text/plain": [
              "RandomForestClassifier(bootstrap=True, ccp_alpha=0.0, class_weight=None,\n",
              "                       criterion='gini', max_depth=None, max_features='auto',\n",
              "                       max_leaf_nodes=None, max_samples=None,\n",
              "                       min_impurity_decrease=0.0, min_impurity_split=None,\n",
              "                       min_samples_leaf=1, min_samples_split=2,\n",
              "                       min_weight_fraction_leaf=0.0, n_estimators=500,\n",
              "                       n_jobs=None, oob_score=False, random_state=None,\n",
              "                       verbose=0, warm_start=False)"
            ]
          },
          "metadata": {
            "tags": []
          },
          "execution_count": 49
        }
      ]
    },
    {
      "cell_type": "markdown",
      "metadata": {
        "id": "q72MtnjFnOrV",
        "colab_type": "text"
      },
      "source": [
        "Check for important features"
      ]
    },
    {
      "cell_type": "code",
      "metadata": {
        "id": "PgkDi_Xxm-wA",
        "colab_type": "code",
        "colab": {
          "base_uri": "https://localhost:8080/",
          "height": 173
        },
        "outputId": "1b30d0d5-c00d-45dc-ecc3-c5ba8f79870e"
      },
      "source": [
        "feat_imp = pd.Series(clf.feature_importances_, index = X_smote.columns).sort_values(ascending = 1 == 2)\n",
        "feat_imp"
      ],
      "execution_count": 50,
      "outputs": [
        {
          "output_type": "execute_result",
          "data": {
            "text/plain": [
              "Age                                0.259308\n",
              "First sexual intercourse           0.256354\n",
              "IUD (years)                        0.152799\n",
              "Hormonal Contraceptives (years)    0.110145\n",
              "Number of sexual partners          0.086520\n",
              "Num of pregnancies                 0.086447\n",
              "STDs (number)                      0.026253\n",
              "smokes                             0.022173\n",
              "dtype: float64"
            ]
          },
          "metadata": {
            "tags": []
          },
          "execution_count": 50
        }
      ]
    },
    {
      "cell_type": "markdown",
      "metadata": {
        "id": "YW5FC282ogmt",
        "colab_type": "text"
      },
      "source": [
        "Use top 5 most important features to see if model improves."
      ]
    },
    {
      "cell_type": "code",
      "metadata": {
        "colab_type": "code",
        "id": "FPShcGaQpSjH",
        "colab": {
          "base_uri": "https://localhost:8080/",
          "height": 34
        },
        "outputId": "2663c166-1695-4ce8-d326-4769de879ca8"
      },
      "source": [
        "clf = skl.ensemble.RandomForestClassifier(**best_params)\n",
        "skl.model_selection.cross_val_score(clf, X_smote[feat_imp.index[:5]], y_smote, scoring = score, cv = 3).mean().round(2)"
      ],
      "execution_count": 51,
      "outputs": [
        {
          "output_type": "execute_result",
          "data": {
            "text/plain": [
              "0.92"
            ]
          },
          "metadata": {
            "tags": []
          },
          "execution_count": 51
        }
      ]
    },
    {
      "cell_type": "markdown",
      "metadata": {
        "id": "gyc-dqsep7cN",
        "colab_type": "text"
      },
      "source": [
        "Dropping features does not improve the model."
      ]
    },
    {
      "cell_type": "markdown",
      "metadata": {
        "id": "zFpse2NawQOO",
        "colab_type": "text"
      },
      "source": [
        "# Final model\n",
        "The final model would be Random Forest with original data scale."
      ]
    },
    {
      "cell_type": "markdown",
      "metadata": {
        "id": "Qn24ywQM6sg1",
        "colab_type": "text"
      },
      "source": [
        "Try and see if we can improve model performance by using Bayesian Optimization for hyper parameters tuning."
      ]
    },
    {
      "cell_type": "code",
      "metadata": {
        "id": "ERF5a47Q6LBb",
        "colab_type": "code",
        "colab": {}
      },
      "source": [
        "!pip install bayesian-optimization\n",
        "from bayes_opt import BayesianOptimization"
      ],
      "execution_count": null,
      "outputs": []
    },
    {
      "cell_type": "code",
      "metadata": {
        "id": "ePjw4e4W7UXO",
        "colab_type": "code",
        "colab": {
          "base_uri": "https://localhost:8080/",
          "height": 502
        },
        "outputId": "12cd930d-075b-4dcc-e746-f5bd84aa21c5"
      },
      "source": [
        "def rf_cv_f1(criterion, min_samples_split, n_estimators):\n",
        "    criterion, min_samples_split, n_estimators = [int(x) for x in [criterion, min_samples_split, n_estimators]]\n",
        "    criterion_dict = {1:'gini', 2:'entropy'}\n",
        "    rf = skl.ensemble.RandomForestClassifier(criterion = criterion_dict[criterion], min_samples_split = min_samples_split, \n",
        "                                             n_estimators = n_estimators)\n",
        "    return skl.model_selection.cross_val_score(rf, X_smote, y_smote, scoring = score, cv = 3).mean().round(2)\n",
        "\n",
        "def get_params(dict_):\n",
        "    dict_['criterion'] = {1:'gini', 2:'entropy'}[int(dict_['criterion'])]\n",
        "    dict_['min_samples_split'] = int(dict_['min_samples_split'])\n",
        "    dict_['n_estimators'] = int(dict_['n_estimators'])\n",
        "    return dict_\n",
        "\n",
        "rf_bo = BayesianOptimization(rf_cv_f1, {'criterion': (1, 2.99999), 'min_samples_split': (2, 500), 'n_estimators': (50, 500)})\n",
        "rf_bo.maximize(n_iter = 20)"
      ],
      "execution_count": 54,
      "outputs": [
        {
          "output_type": "stream",
          "text": [
            "|   iter    |  target   | criterion | min_sa... | n_esti... |\n",
            "-------------------------------------------------------------\n",
            "| \u001b[0m 1       \u001b[0m | \u001b[0m 0.9     \u001b[0m | \u001b[0m 1.833   \u001b[0m | \u001b[0m 29.75   \u001b[0m | \u001b[0m 386.8   \u001b[0m |\n",
            "| \u001b[0m 2       \u001b[0m | \u001b[0m 0.9     \u001b[0m | \u001b[0m 2.739   \u001b[0m | \u001b[0m 25.94   \u001b[0m | \u001b[0m 461.8   \u001b[0m |\n",
            "| \u001b[0m 3       \u001b[0m | \u001b[0m 0.82    \u001b[0m | \u001b[0m 2.759   \u001b[0m | \u001b[0m 304.4   \u001b[0m | \u001b[0m 324.5   \u001b[0m |\n",
            "| \u001b[0m 4       \u001b[0m | \u001b[0m 0.22    \u001b[0m | \u001b[0m 1.098   \u001b[0m | \u001b[0m 466.4   \u001b[0m | \u001b[0m 244.9   \u001b[0m |\n",
            "| \u001b[0m 5       \u001b[0m | \u001b[0m 0.82    \u001b[0m | \u001b[0m 2.277   \u001b[0m | \u001b[0m 295.9   \u001b[0m | \u001b[0m 460.5   \u001b[0m |\n",
            "| \u001b[0m 6       \u001b[0m | \u001b[0m 0.9     \u001b[0m | \u001b[0m 1.211   \u001b[0m | \u001b[0m 27.49   \u001b[0m | \u001b[0m 387.1   \u001b[0m |\n",
            "| \u001b[95m 7       \u001b[0m | \u001b[95m 0.94    \u001b[0m | \u001b[95m 1.384   \u001b[0m | \u001b[95m 2.198   \u001b[0m | \u001b[95m 51.96   \u001b[0m |\n",
            "| \u001b[0m 8       \u001b[0m | \u001b[0m 0.83    \u001b[0m | \u001b[0m 1.281   \u001b[0m | \u001b[0m 207.4   \u001b[0m | \u001b[0m 50.08   \u001b[0m |\n",
            "| \u001b[0m 9       \u001b[0m | \u001b[0m 0.84    \u001b[0m | \u001b[0m 1.08    \u001b[0m | \u001b[0m 117.5   \u001b[0m | \u001b[0m 192.1   \u001b[0m |\n",
            "| \u001b[0m 10      \u001b[0m | \u001b[0m 0.84    \u001b[0m | \u001b[0m 1.002   \u001b[0m | \u001b[0m 167.6   \u001b[0m | \u001b[0m 413.3   \u001b[0m |\n",
            "| \u001b[0m 11      \u001b[0m | \u001b[0m 0.22    \u001b[0m | \u001b[0m 2.521   \u001b[0m | \u001b[0m 499.5   \u001b[0m | \u001b[0m 496.5   \u001b[0m |\n",
            "| \u001b[0m 12      \u001b[0m | \u001b[0m 0.94    \u001b[0m | \u001b[0m 2.444   \u001b[0m | \u001b[0m 2.571   \u001b[0m | \u001b[0m 207.9   \u001b[0m |\n",
            "| \u001b[0m 13      \u001b[0m | \u001b[0m 0.85    \u001b[0m | \u001b[0m 2.604   \u001b[0m | \u001b[0m 77.54   \u001b[0m | \u001b[0m 51.38   \u001b[0m |\n",
            "| \u001b[0m 14      \u001b[0m | \u001b[0m 0.94    \u001b[0m | \u001b[0m 1.602   \u001b[0m | \u001b[0m 2.452   \u001b[0m | \u001b[0m 119.4   \u001b[0m |\n",
            "| \u001b[0m 15      \u001b[0m | \u001b[0m 0.94    \u001b[0m | \u001b[0m 2.084   \u001b[0m | \u001b[0m 2.608   \u001b[0m | \u001b[0m 495.8   \u001b[0m |\n",
            "| \u001b[0m 16      \u001b[0m | \u001b[0m 0.94    \u001b[0m | \u001b[0m 2.943   \u001b[0m | \u001b[0m 2.727   \u001b[0m | \u001b[0m 290.6   \u001b[0m |\n",
            "| \u001b[0m 17      \u001b[0m | \u001b[0m 0.94    \u001b[0m | \u001b[0m 2.467   \u001b[0m | \u001b[0m 2.307   \u001b[0m | \u001b[0m 426.3   \u001b[0m |\n",
            "| \u001b[0m 18      \u001b[0m | \u001b[0m 0.94    \u001b[0m | \u001b[0m 1.052   \u001b[0m | \u001b[0m 2.842   \u001b[0m | \u001b[0m 357.1   \u001b[0m |\n",
            "| \u001b[0m 19      \u001b[0m | \u001b[0m 0.94    \u001b[0m | \u001b[0m 2.982   \u001b[0m | \u001b[0m 2.962   \u001b[0m | \u001b[0m 133.1   \u001b[0m |\n",
            "| \u001b[0m 20      \u001b[0m | \u001b[0m 0.94    \u001b[0m | \u001b[0m 2.757   \u001b[0m | \u001b[0m 2.919   \u001b[0m | \u001b[0m 370.3   \u001b[0m |\n",
            "| \u001b[0m 21      \u001b[0m | \u001b[0m 0.94    \u001b[0m | \u001b[0m 2.617   \u001b[0m | \u001b[0m 2.201   \u001b[0m | \u001b[0m 161.4   \u001b[0m |\n",
            "| \u001b[0m 22      \u001b[0m | \u001b[0m 0.94    \u001b[0m | \u001b[0m 1.506   \u001b[0m | \u001b[0m 2.048   \u001b[0m | \u001b[0m 457.2   \u001b[0m |\n",
            "| \u001b[0m 23      \u001b[0m | \u001b[0m 0.94    \u001b[0m | \u001b[0m 2.764   \u001b[0m | \u001b[0m 2.632   \u001b[0m | \u001b[0m 327.9   \u001b[0m |\n",
            "| \u001b[0m 24      \u001b[0m | \u001b[0m 0.94    \u001b[0m | \u001b[0m 2.952   \u001b[0m | \u001b[0m 2.149   \u001b[0m | \u001b[0m 234.7   \u001b[0m |\n",
            "| \u001b[0m 25      \u001b[0m | \u001b[0m 0.94    \u001b[0m | \u001b[0m 2.887   \u001b[0m | \u001b[0m 2.145   \u001b[0m | \u001b[0m 85.56   \u001b[0m |\n",
            "=============================================================\n"
          ],
          "name": "stdout"
        }
      ]
    },
    {
      "cell_type": "code",
      "metadata": {
        "id": "UPLw_QfTSFmB",
        "colab_type": "code",
        "colab": {}
      },
      "source": [
        "best_params = get_params(rf_bo.max['params'])"
      ],
      "execution_count": 55,
      "outputs": []
    },
    {
      "cell_type": "markdown",
      "metadata": {
        "id": "0hsFeO3ZP8Ya",
        "colab_type": "text"
      },
      "source": [
        "No better hyperparameter found. However we can still use the best parameters found here which has the same performance like random search."
      ]
    },
    {
      "cell_type": "code",
      "metadata": {
        "id": "Ayqpf5kvQjSm",
        "colab_type": "code",
        "colab": {
          "base_uri": "https://localhost:8080/",
          "height": 155
        },
        "outputId": "642e9930-f758-4c78-c9a8-2d60943f128a"
      },
      "source": [
        "final_model = skl.ensemble.RandomForestClassifier(**best_params)\n",
        "final_model.fit(X_smote, y_smote)"
      ],
      "execution_count": 66,
      "outputs": [
        {
          "output_type": "execute_result",
          "data": {
            "text/plain": [
              "RandomForestClassifier(bootstrap=True, ccp_alpha=0.0, class_weight=None,\n",
              "                       criterion='gini', max_depth=None, max_features='auto',\n",
              "                       max_leaf_nodes=None, max_samples=None,\n",
              "                       min_impurity_decrease=0.0, min_impurity_split=None,\n",
              "                       min_samples_leaf=1, min_samples_split=2,\n",
              "                       min_weight_fraction_leaf=0.0, n_estimators=51,\n",
              "                       n_jobs=None, oob_score=False, random_state=None,\n",
              "                       verbose=0, warm_start=False)"
            ]
          },
          "metadata": {
            "tags": []
          },
          "execution_count": 66
        }
      ]
    },
    {
      "cell_type": "markdown",
      "metadata": {
        "id": "pM_h0puXlm22",
        "colab_type": "text"
      },
      "source": [
        "### Look at our testing data"
      ]
    },
    {
      "cell_type": "code",
      "metadata": {
        "id": "xZJe8Y4fVNYr",
        "colab_type": "code",
        "colab": {
          "base_uri": "https://localhost:8080/",
          "height": 69
        },
        "outputId": "80719ce1-2c98-449c-ab75-86440f0a20b5"
      },
      "source": [
        "y_test.value_counts(normalize = 1 == 1)"
      ],
      "execution_count": 63,
      "outputs": [
        {
          "output_type": "execute_result",
          "data": {
            "text/plain": [
              "0    0.973154\n",
              "1    0.026846\n",
              "Name: Dx:Cancer, dtype: float64"
            ]
          },
          "metadata": {
            "tags": []
          },
          "execution_count": 63
        }
      ]
    },
    {
      "cell_type": "markdown",
      "metadata": {
        "id": "ePPeKpCQl4iD",
        "colab_type": "text"
      },
      "source": [
        "There're only about 7% of the people diagnosed with cancer."
      ]
    },
    {
      "cell_type": "markdown",
      "metadata": {
        "id": "6igM_y1dT9Kx",
        "colab_type": "text"
      },
      "source": [
        "# Check how the model performs on testing data"
      ]
    },
    {
      "cell_type": "code",
      "metadata": {
        "id": "QA5hOWIBUH3h",
        "colab_type": "code",
        "colab": {
          "base_uri": "https://localhost:8080/",
          "height": 173
        },
        "outputId": "587bb74d-8d3b-4892-cdae-743a3411fd05"
      },
      "source": [
        "report = skl.metrics.classification_report(y_test, final_model.predict(X_test))\n",
        "print(report)"
      ],
      "execution_count": 114,
      "outputs": [
        {
          "output_type": "stream",
          "text": [
            "              precision    recall  f1-score   support\n",
            "\n",
            "           0       0.99      0.93      0.96       145\n",
            "           1       0.17      0.50      0.25         4\n",
            "\n",
            "    accuracy                           0.92       149\n",
            "   macro avg       0.58      0.72      0.60       149\n",
            "weighted avg       0.96      0.92      0.94       149\n",
            "\n"
          ],
          "name": "stdout"
        }
      ]
    },
    {
      "cell_type": "markdown",
      "metadata": {
        "id": "VT6Nsxl6mJ4m",
        "colab_type": "text"
      },
      "source": [
        "The model can correctly predict about 40% of the cancer patients in our testing data. This is not good, but It's still a lot better than just doing some random guessing."
      ]
    },
    {
      "cell_type": "code",
      "metadata": {
        "id": "MzgX0CkkWLVK",
        "colab_type": "code",
        "colab": {
          "base_uri": "https://localhost:8080/",
          "height": 279
        },
        "outputId": "dff84c62-9110-4ed7-bf35-62402e41de49"
      },
      "source": [
        "p = skl.metrics.plot_confusion_matrix(final_model, X_test, y_test, cmap = 'Blues',display_labels = ['No cancer', 'Cancer'])"
      ],
      "execution_count": 88,
      "outputs": [
        {
          "output_type": "display_data",
          "data": {
            "image/png": "[encoded data removed]",
            "text/plain": [
              "<Figure size 432x288 with 2 Axes>"
            ]
          },
          "metadata": {
            "tags": []
          }
        }
      ]
    },
    {
      "cell_type": "markdown",
      "metadata": {
        "id": "WgNNN30n1LgM",
        "colab_type": "text"
      },
      "source": [
        "Lets see what are the important features for predicting cancer."
      ]
    },
    {
      "cell_type": "code",
      "metadata": {
        "id": "9QGZyUzU1Sjk",
        "colab_type": "code",
        "colab": {
          "base_uri": "https://localhost:8080/",
          "height": 280
        },
        "outputId": "e674d6c9-9628-484a-9ecf-ae6d6f300689"
      },
      "source": [
        "imp_feat = pd.Series(final_model.feature_importances_, index = X_smote.columns).sort_values(ascending = 1 == 2).reset_index()\n",
        "imp_feat.columns = ['feature', 'importance_score']\n",
        "sns.barplot('importance_score', 'feature', data = imp_feat)\n",
        "p = plt.ylabel('')"
      ],
      "execution_count": 89,
      "outputs": [
        {
          "output_type": "display_data",
          "data": {
            "image/png": "[encoded data removed]",
            "text/plain": [
              "<Figure size 432x288 with 1 Axes>"
            ]
          },
          "metadata": {
            "tags": []
          }
        }
      ]
    },
    {
      "cell_type": "markdown",
      "metadata": {
        "id": "5sm2knjj4dUu",
        "colab_type": "text"
      },
      "source": [
        "* Age & First sexual intercourse are the 2 high risk factors for Cervical Cancer.\n",
        "* HC, & IUD are the 2 medium risk factors for Cervical Cancer."
      ]
    }
  ]
}