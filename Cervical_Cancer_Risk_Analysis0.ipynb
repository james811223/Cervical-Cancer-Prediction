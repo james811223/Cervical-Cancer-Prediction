{
  "nbformat": 4,
  "nbformat_minor": 0,
  "metadata": {
    "colab": {
      "name": "Cervical Cancer Risk Analysis.ipynb",
      "provenance": [],
      "collapsed_sections": [
        "n-ZYlh7mj8-K",
        "O7THVB5F7UY3",
        "-TpM0jV-lpB5",
        "6Y9At__ylz77",
        "VfZ3Ii92l8w3",
        "-ueuUx1ejX4M",
        "YDA0F6HVQu1E",
        "S0ZFOEc9h1C7",
        "6wNymdgIJLze",
        "SNzROOqeT8D6",
        "8VW5G1cAlZi7",
        "MjjoQVgtWRTe",
        "IJLnGmdYmIoW",
        "LPMjsD-tTrry",
        "YuS_mP2Icgw0",
        "t3jP546Qdk9A",
        "xZOiZnKXqZTO",
        "dDnkApJoN1oN",
        "ThUQoU_JE0Us",
        "BTi2uUkCLoDW",
        "gnRBhv-uLxfX"
      ],
      "authorship_tag": "ABX9TyOzISTtw2yDDGXMRobrPp4l",
      "include_colab_link": true
    },
    "kernelspec": {
      "display_name": "Python 3",
      "language": "python",
      "name": "python3"
    },
    "language_info": {
      "codemirror_mode": {
        "name": "ipython",
        "version": 3
      },
      "file_extension": ".py",
      "mimetype": "text/x-python",
      "name": "python",
      "nbconvert_exporter": "python",
      "pygments_lexer": "ipython3",
      "version": "3.7.7"
    }
  },
  "cells": [
    {
      "cell_type": "markdown",
      "metadata": {
        "id": "view-in-github",
        "colab_type": "text"
      },
      "source": [
        "<a href=\"https://colab.research.google.com/github/james811223/Cervical-Cancer-Risk-Factor-Analysis/blob/master/Cervical_Cancer_Risk_Analysis.ipynb\" target=\"_parent\"><img src=\"https://colab.research.google.com/assets/colab-badge.svg\" alt=\"Open In Colab\"/></a>"
      ]
    },
    {
      "cell_type": "markdown",
      "metadata": {
        "colab_type": "text",
        "id": "zaSIv_MgkBXV"
      },
      "source": [
        "# Set up"
      ]
    },
    {
      "cell_type": "code",
      "metadata": {
        "colab_type": "code",
        "id": "I7kK7ruDizba",
        "colab": {}
      },
      "source": [
        "from sklearn.model_selection import train_test_split as tts\n",
        "from sklearn.impute import KNNImputer as imp\n",
        "import pandas as pd, numpy as np, seaborn as sns, matplotlib.pyplot as plt, sklearn as skl\n",
        "from imblearn.combine import SMOTETomek as smote\n",
        "%matplotlib inline"
      ],
      "execution_count": null,
      "outputs": []
    },
    {
      "cell_type": "code",
      "metadata": {
        "colab_type": "code",
        "id": "5sYyT48fczD4",
        "colab": {}
      },
      "source": [
        "sns.set_style('darkgrid',{'figure.facecolor': 'lightblue'})"
      ],
      "execution_count": null,
      "outputs": []
    },
    {
      "cell_type": "markdown",
      "metadata": {
        "colab_type": "text",
        "id": "a7QMgU9ofotr"
      },
      "source": [
        "# Data Import + Wrangling"
      ]
    },
    {
      "cell_type": "code",
      "metadata": {
        "colab_type": "code",
        "id": "QHBCDf-gjo4m",
        "colab": {
          "base_uri": "https://localhost:8080/",
          "height": 762
        },
        "outputId": "e1d7449f-fe3b-45b0-81c5-a6cf4cef540d"
      },
      "source": [
        "df_raw = pd.read_csv('https://archive.ics.uci.edu/ml/machine-learning-databases/00383/risk_factors_cervical_cancer.csv', \n",
        "                     na_values='?')\n",
        "df_raw.info()"
      ],
      "execution_count": null,
      "outputs": [
        {
          "output_type": "stream",
          "text": [
            "<class 'pandas.core.frame.DataFrame'>\n",
            "RangeIndex: 858 entries, 0 to 857\n",
            "Data columns (total 36 columns):\n",
            " #   Column                              Non-Null Count  Dtype  \n",
            "---  ------                              --------------  -----  \n",
            " 0   Age                                 858 non-null    int64  \n",
            " 1   Number of sexual partners           832 non-null    float64\n",
            " 2   First sexual intercourse            851 non-null    float64\n",
            " 3   Num of pregnancies                  802 non-null    float64\n",
            " 4   Smokes                              845 non-null    float64\n",
            " 5   Smokes (years)                      845 non-null    float64\n",
            " 6   Smokes (packs/year)                 845 non-null    float64\n",
            " 7   Hormonal Contraceptives             750 non-null    float64\n",
            " 8   Hormonal Contraceptives (years)     750 non-null    float64\n",
            " 9   IUD                                 741 non-null    float64\n",
            " 10  IUD (years)                         741 non-null    float64\n",
            " 11  STDs                                753 non-null    float64\n",
            " 12  STDs (number)                       753 non-null    float64\n",
            " 13  STDs:condylomatosis                 753 non-null    float64\n",
            " 14  STDs:cervical condylomatosis        753 non-null    float64\n",
            " 15  STDs:vaginal condylomatosis         753 non-null    float64\n",
            " 16  STDs:vulvo-perineal condylomatosis  753 non-null    float64\n",
            " 17  STDs:syphilis                       753 non-null    float64\n",
            " 18  STDs:pelvic inflammatory disease    753 non-null    float64\n",
            " 19  STDs:genital herpes                 753 non-null    float64\n",
            " 20  STDs:molluscum contagiosum          753 non-null    float64\n",
            " 21  STDs:AIDS                           753 non-null    float64\n",
            " 22  STDs:HIV                            753 non-null    float64\n",
            " 23  STDs:Hepatitis B                    753 non-null    float64\n",
            " 24  STDs:HPV                            753 non-null    float64\n",
            " 25  STDs: Number of diagnosis           858 non-null    int64  \n",
            " 26  STDs: Time since first diagnosis    71 non-null     float64\n",
            " 27  STDs: Time since last diagnosis     71 non-null     float64\n",
            " 28  Dx:Cancer                           858 non-null    int64  \n",
            " 29  Dx:CIN                              858 non-null    int64  \n",
            " 30  Dx:HPV                              858 non-null    int64  \n",
            " 31  Dx                                  858 non-null    int64  \n",
            " 32  Hinselmann                          858 non-null    int64  \n",
            " 33  Schiller                            858 non-null    int64  \n",
            " 34  Citology                            858 non-null    int64  \n",
            " 35  Biopsy                              858 non-null    int64  \n",
            "dtypes: float64(26), int64(10)\n",
            "memory usage: 241.4 KB\n"
          ],
          "name": "stdout"
        }
      ]
    },
    {
      "cell_type": "markdown",
      "metadata": {
        "colab_type": "text",
        "id": "XnDRMmHzRo0i"
      },
      "source": [
        "Drop STDs: Time since first diagnosis, STDs: Time since last diagnosis columns, due to large amount of missing values.  \n",
        "Last few columns are all potential targets, we'll use Biopsy and drop others."
      ]
    },
    {
      "cell_type": "code",
      "metadata": {
        "colab_type": "code",
        "id": "60EjSFQDRprc",
        "colab": {}
      },
      "source": [
        "df_raw.drop(columns = df_raw.columns[[26, 27, 28, 31, 32, 33, 34]], inplace = 1 == 1)"
      ],
      "execution_count": null,
      "outputs": []
    },
    {
      "cell_type": "markdown",
      "metadata": {
        "colab_type": "text",
        "id": "MqWySc3IQQRv"
      },
      "source": [
        "Biopsy will be used as target variable. Lets take a look."
      ]
    },
    {
      "cell_type": "code",
      "metadata": {
        "colab_type": "code",
        "id": "s6TQrUkPP-xp",
        "colab": {
          "base_uri": "https://localhost:8080/",
          "height": 69
        },
        "outputId": "572897b5-6b6f-4ef9-f34e-2ffd8895b028"
      },
      "source": [
        "df_raw.Biopsy.value_counts()"
      ],
      "execution_count": null,
      "outputs": [
        {
          "output_type": "execute_result",
          "data": {
            "text/plain": [
              "0    803\n",
              "1     55\n",
              "Name: Biopsy, dtype: int64"
            ]
          },
          "metadata": {
            "tags": []
          },
          "execution_count": 5
        }
      ]
    },
    {
      "cell_type": "markdown",
      "metadata": {
        "colab_type": "text",
        "id": "L7dXmJamQctL"
      },
      "source": [
        "The data is highly imbalanced. I will drop the rows with missing data where Biospy is 0 to downsample a little bit."
      ]
    },
    {
      "cell_type": "code",
      "metadata": {
        "colab_type": "code",
        "id": "FNRUWkDXQtZM",
        "colab": {
          "base_uri": "https://localhost:8080/",
          "height": 69
        },
        "outputId": "fe83b684-b938-48a5-fb11-3ce8b3d2d27c"
      },
      "source": [
        "b1 = df_raw.query('Biopsy == 1')\n",
        "b0 = df_raw.query('Biopsy == 0').dropna()\n",
        "df = pd.concat([b1,b0], ignore_index = 1 == 1)\n",
        "df.Biopsy.value_counts()"
      ],
      "execution_count": null,
      "outputs": [
        {
          "output_type": "execute_result",
          "data": {
            "text/plain": [
              "0    623\n",
              "1     55\n",
              "Name: Biopsy, dtype: int64"
            ]
          },
          "metadata": {
            "tags": []
          },
          "execution_count": 6
        }
      ]
    },
    {
      "cell_type": "code",
      "metadata": {
        "colab_type": "code",
        "id": "8fPtCBsCTWQX",
        "colab": {
          "base_uri": "https://localhost:8080/",
          "height": 641
        },
        "outputId": "2a153014-cc23-4216-ee1d-52b0790df984"
      },
      "source": [
        "df.info()"
      ],
      "execution_count": null,
      "outputs": [
        {
          "output_type": "stream",
          "text": [
            "<class 'pandas.core.frame.DataFrame'>\n",
            "RangeIndex: 678 entries, 0 to 677\n",
            "Data columns (total 29 columns):\n",
            " #   Column                              Non-Null Count  Dtype  \n",
            "---  ------                              --------------  -----  \n",
            " 0   Age                                 678 non-null    int64  \n",
            " 1   Number of sexual partners           677 non-null    float64\n",
            " 2   First sexual intercourse            678 non-null    float64\n",
            " 3   Num of pregnancies                  671 non-null    float64\n",
            " 4   Smokes                              677 non-null    float64\n",
            " 5   Smokes (years)                      677 non-null    float64\n",
            " 6   Smokes (packs/year)                 677 non-null    float64\n",
            " 7   Hormonal Contraceptives             678 non-null    float64\n",
            " 8   Hormonal Contraceptives (years)     678 non-null    float64\n",
            " 9   IUD                                 675 non-null    float64\n",
            " 10  IUD (years)                         675 non-null    float64\n",
            " 11  STDs                                676 non-null    float64\n",
            " 12  STDs (number)                       676 non-null    float64\n",
            " 13  STDs:condylomatosis                 676 non-null    float64\n",
            " 14  STDs:cervical condylomatosis        676 non-null    float64\n",
            " 15  STDs:vaginal condylomatosis         676 non-null    float64\n",
            " 16  STDs:vulvo-perineal condylomatosis  676 non-null    float64\n",
            " 17  STDs:syphilis                       676 non-null    float64\n",
            " 18  STDs:pelvic inflammatory disease    676 non-null    float64\n",
            " 19  STDs:genital herpes                 676 non-null    float64\n",
            " 20  STDs:molluscum contagiosum          676 non-null    float64\n",
            " 21  STDs:AIDS                           676 non-null    float64\n",
            " 22  STDs:HIV                            676 non-null    float64\n",
            " 23  STDs:Hepatitis B                    676 non-null    float64\n",
            " 24  STDs:HPV                            676 non-null    float64\n",
            " 25  STDs: Number of diagnosis           678 non-null    int64  \n",
            " 26  Dx:CIN                              678 non-null    int64  \n",
            " 27  Dx:HPV                              678 non-null    int64  \n",
            " 28  Biopsy                              678 non-null    int64  \n",
            "dtypes: float64(24), int64(5)\n",
            "memory usage: 153.7 KB\n"
          ],
          "name": "stdout"
        }
      ]
    },
    {
      "cell_type": "markdown",
      "metadata": {
        "colab_type": "text",
        "id": "Xznc2P8g9ilQ"
      },
      "source": [
        "Drop Smokes column because we can know if someone is smoking using Smokes(Years) or Smokes(packs/year) columns.  \n",
        "Drop IUD column because if IUD(years) > 0 then IUD is 1.  \n",
        "Same reasoning for dropping Hormonal Contraceptives.  \n",
        "Same reasoning for STDs, keeping only STDs(number).\n",
        "Drop Dx columns because"
      ]
    },
    {
      "cell_type": "code",
      "metadata": {
        "colab_type": "code",
        "id": "whlkvctL9gsR",
        "colab": {
          "base_uri": "https://localhost:8080/",
          "height": 346
        },
        "outputId": "66ca5329-28e2-4762-dd7e-6c67988ff70a"
      },
      "source": [
        "df = df.iloc[:, [0, 1, 2, 3, 5, 6, 8, 10, 12, 26, 27, 28]]\n",
        "df.info()"
      ],
      "execution_count": null,
      "outputs": [
        {
          "output_type": "stream",
          "text": [
            "<class 'pandas.core.frame.DataFrame'>\n",
            "RangeIndex: 678 entries, 0 to 677\n",
            "Data columns (total 12 columns):\n",
            " #   Column                           Non-Null Count  Dtype  \n",
            "---  ------                           --------------  -----  \n",
            " 0   Age                              678 non-null    int64  \n",
            " 1   Number of sexual partners        677 non-null    float64\n",
            " 2   First sexual intercourse         678 non-null    float64\n",
            " 3   Num of pregnancies               671 non-null    float64\n",
            " 4   Smokes (years)                   677 non-null    float64\n",
            " 5   Smokes (packs/year)              677 non-null    float64\n",
            " 6   Hormonal Contraceptives (years)  678 non-null    float64\n",
            " 7   IUD (years)                      675 non-null    float64\n",
            " 8   STDs (number)                    676 non-null    float64\n",
            " 9   Dx:CIN                           678 non-null    int64  \n",
            " 10  Dx:HPV                           678 non-null    int64  \n",
            " 11  Biopsy                           678 non-null    int64  \n",
            "dtypes: float64(8), int64(4)\n",
            "memory usage: 63.7 KB\n"
          ],
          "name": "stdout"
        }
      ]
    },
    {
      "cell_type": "markdown",
      "metadata": {
        "colab_type": "text",
        "id": "2-afZtBTgQB3"
      },
      "source": [
        "Split data first to avoid any manipulation to testing data.  \n",
        "We'll only use the data with no missing values for our testing data set."
      ]
    },
    {
      "cell_type": "code",
      "metadata": {
        "colab_type": "code",
        "id": "SNTL2dK7gLam",
        "colab": {
          "base_uri": "https://localhost:8080/",
          "height": 69
        },
        "outputId": "d1f4fdab-3dca-4258-fe17-74919d2eeaf3"
      },
      "source": [
        "df_clean = df.dropna()\n",
        "df_clean.Biopsy.value_counts()"
      ],
      "execution_count": null,
      "outputs": [
        {
          "output_type": "execute_result",
          "data": {
            "text/plain": [
              "0    623\n",
              "1     45\n",
              "Name: Biopsy, dtype: int64"
            ]
          },
          "metadata": {
            "tags": []
          },
          "execution_count": 9
        }
      ]
    },
    {
      "cell_type": "code",
      "metadata": {
        "colab_type": "code",
        "id": "WPJ-aGX7lnbg",
        "colab": {}
      },
      "source": [
        "X_train, X_test, y_train, y_test = tts(df_clean.drop(columns = ['Biopsy']), df_clean.Biopsy, test_size = 10/45, \n",
        "                                       stratify = df_clean.Biopsy)\n",
        "train = df.drop(X_test.index)\n",
        "X_train = train.drop(columns = ['Biopsy'])\n",
        "y_train = train.Biopsy.copy()"
      ],
      "execution_count": null,
      "outputs": []
    },
    {
      "cell_type": "markdown",
      "metadata": {
        "colab_type": "text",
        "id": "S-MRYvfUfDNm"
      },
      "source": [
        "Imputation for completing missing values using k-Nearest Neighbors."
      ]
    },
    {
      "cell_type": "code",
      "metadata": {
        "colab_type": "code",
        "id": "AGcE9OkTfH6O",
        "colab": {
          "base_uri": "https://localhost:8080/",
          "height": 329
        },
        "outputId": "f97a95e1-3355-4ab4-e79e-530fd91032de"
      },
      "source": [
        "X_train = pd.DataFrame(imp().fit_transform(X_train), columns = X_train.columns)\n",
        "X_train.info()"
      ],
      "execution_count": null,
      "outputs": [
        {
          "output_type": "stream",
          "text": [
            "<class 'pandas.core.frame.DataFrame'>\n",
            "RangeIndex: 529 entries, 0 to 528\n",
            "Data columns (total 11 columns):\n",
            " #   Column                           Non-Null Count  Dtype  \n",
            "---  ------                           --------------  -----  \n",
            " 0   Age                              529 non-null    float64\n",
            " 1   Number of sexual partners        529 non-null    float64\n",
            " 2   First sexual intercourse         529 non-null    float64\n",
            " 3   Num of pregnancies               529 non-null    float64\n",
            " 4   Smokes (years)                   529 non-null    float64\n",
            " 5   Smokes (packs/year)              529 non-null    float64\n",
            " 6   Hormonal Contraceptives (years)  529 non-null    float64\n",
            " 7   IUD (years)                      529 non-null    float64\n",
            " 8   STDs (number)                    529 non-null    float64\n",
            " 9   Dx:CIN                           529 non-null    float64\n",
            " 10  Dx:HPV                           529 non-null    float64\n",
            "dtypes: float64(11)\n",
            "memory usage: 45.6 KB\n"
          ],
          "name": "stdout"
        }
      ]
    },
    {
      "cell_type": "code",
      "metadata": {
        "colab_type": "code",
        "id": "MugdRzSAr5lS",
        "colab": {}
      },
      "source": [
        "X_train = X_train.astype(int)"
      ],
      "execution_count": null,
      "outputs": []
    },
    {
      "cell_type": "markdown",
      "metadata": {
        "colab_type": "text",
        "id": "n-ZYlh7mj8-K"
      },
      "source": [
        "# EDA"
      ]
    },
    {
      "cell_type": "markdown",
      "metadata": {
        "id": "r9N6wRaQonYK",
        "colab_type": "text"
      },
      "source": [
        "### Check for skewness with histogram"
      ]
    },
    {
      "cell_type": "code",
      "metadata": {
        "id": "F-_oOH-6mD8d",
        "colab_type": "code",
        "colab": {
          "base_uri": "https://localhost:8080/",
          "height": 607
        },
        "outputId": "6d77e708-98e8-40b7-8fdd-9b3aed0f0290"
      },
      "source": [
        "p = df_raw[X_train.columns].hist(figsize = (10, 10))"
      ],
      "execution_count": null,
      "outputs": [
        {
          "output_type": "display_data",
          "data": {
            "image/png": "[encoded data removed]",
            "text/plain": [
              "<Figure size 720x720 with 9 Axes>"
            ]
          },
          "metadata": {
            "tags": []
          }
        }
      ]
    },
    {
      "cell_type": "markdown",
      "metadata": {
        "id": "nfudrul-omVm",
        "colab_type": "text"
      },
      "source": [
        "All columns seem to be right skewed. In addition, HC, IUD, number of sexual partners, STDs, smokes columns seems to be skewed a lot with most values being 0.  \n",
        "We might need to do some processing to reduce the skewness."
      ]
    },
    {
      "cell_type": "markdown",
      "metadata": {
        "colab_type": "text",
        "id": "itece6Qh4bwx"
      },
      "source": [
        "### Check for outliers."
      ]
    },
    {
      "cell_type": "code",
      "metadata": {
        "colab_type": "code",
        "id": "Pfx3RSRX4fSo",
        "colab": {
          "base_uri": "https://localhost:8080/",
          "height": 279
        },
        "outputId": "e690b4f1-bb77-4df1-fa10-2d412608798a"
      },
      "source": [
        "gdf = skl.preprocessing.MinMaxScaler().fit_transform(df_raw[X_train.columns])\n",
        "gdf = pd.DataFrame(gdf, columns = X_train.columns).melt()\n",
        "sns.boxplot('value', 'variable', data = gdf)\n",
        "plt.xlabel('Scaled to between 0 and 1')\n",
        "p = plt.ylabel('')"
      ],
      "execution_count": null,
      "outputs": [
        {
          "output_type": "display_data",
          "data": {
            "image/png": "[encoded data removed]",
            "text/plain": [
              "<Figure size 432x288 with 1 Axes>"
            ]
          },
          "metadata": {
            "tags": []
          }
        }
      ]
    },
    {
      "cell_type": "markdown",
      "metadata": {
        "colab_type": "text",
        "id": "6I45p-1c6_1s"
      },
      "source": [
        "During modeling, we might need to try dealing with outliers."
      ]
    },
    {
      "cell_type": "markdown",
      "metadata": {
        "id": "s0e2ASvesVid",
        "colab_type": "text"
      },
      "source": [
        "### Check for Biopsy(target) to different features relationships."
      ]
    },
    {
      "cell_type": "code",
      "metadata": {
        "id": "8-jRcsWRnCmq",
        "colab_type": "code",
        "colab": {
          "base_uri": "https://localhost:8080/",
          "height": 518
        },
        "outputId": "6bd38552-8b6d-4e8f-b215-51baaece38ac"
      },
      "source": [
        "fig, axs = plt.subplots(3, 3, sharex = 1 == 1, figsize = (25, 10))\n",
        "axs = axs.flatten()\n",
        "ax = iter(axs)\n",
        "for col in X_train.columns[:-2]:\n",
        "    a = next(ax)\n",
        "    sns.boxplot('Biopsy', col, ax = a, data = df_raw)\n",
        "    a.set_xlabel('')\n",
        "    a.set_ylabel(col)\n",
        "t = fig.text(0.5, 0.04, 'Biospy', ha='center', size = 25)\n",
        "axs[1].set_ylim(top = 6)\n",
        "p = axs[6].set_ylim(top = 15)"
      ],
      "execution_count": null,
      "outputs": [
        {
          "output_type": "display_data",
          "data": {
            "image/png": "[encoded data removed]",
            "text/plain": [
              "<Figure size 1800x720 with 9 Axes>"
            ]
          },
          "metadata": {
            "tags": []
          }
        }
      ]
    },
    {
      "cell_type": "code",
      "metadata": {
        "id": "JCF8qfRx94Eu",
        "colab_type": "code",
        "colab": {
          "base_uri": "https://localhost:8080/",
          "height": 86
        },
        "outputId": "04814155-8924-4dfe-e132-85067753a619"
      },
      "source": [
        "X_test.columns"
      ],
      "execution_count": null,
      "outputs": [
        {
          "output_type": "execute_result",
          "data": {
            "text/plain": [
              "Index(['Age', 'Number of sexual partners', 'First sexual intercourse',\n",
              "       'Num of pregnancies', 'Hormonal Contraceptives (years)', 'IUD (years)',\n",
              "       'STDs (number)', 'Dx:CIN', 'Dx:HPV', 'smokes'],\n",
              "      dtype='object')"
            ]
          },
          "metadata": {
            "tags": []
          },
          "execution_count": 69
        }
      ]
    },
    {
      "cell_type": "markdown",
      "metadata": {
        "colab_type": "text",
        "id": "8qcC-0divGlg"
      },
      "source": [
        "* People diagnosed with cancer seems to be older than those not diagnosed with cancer on average.\n",
        "* It doesn't seem to be having much difference of the average number of sexual partners between people diagnosed with cancer and those are not.\n",
        "* It doesn't seem to be having much difference of the average first sexual intercourse between people diagnosed with cancer and those are not.\n",
        "* People diagnosed with cancer seems to be having higher number of pregnancies than those not diagnosed with cancer on average.\n",
        "* It doesn't seem to be having much difference of the average HC years between people diagnosed with cancer and those are not.\n",
        "* Smokes, HC, IUD, and STDs columns are all mostly 0 as seen in histograms."
      ]
    },
    {
      "cell_type": "code",
      "metadata": {
        "id": "SGaK-7X3y6T8",
        "colab_type": "code",
        "colab": {
          "base_uri": "https://localhost:8080/",
          "height": 103
        },
        "outputId": "ef6738bf-8c05-4c18-b34c-7d739f66c5ba"
      },
      "source": [
        "X_test.columns"
      ],
      "execution_count": null,
      "outputs": [
        {
          "output_type": "execute_result",
          "data": {
            "text/plain": [
              "Index(['Age', 'Number of sexual partners', 'First sexual intercourse',\n",
              "       'Num of pregnancies', 'Smokes (years)', 'Smokes (packs/year)',\n",
              "       'Hormonal Contraceptives (years)', 'IUD (years)', 'STDs (number)',\n",
              "       'Dx:CIN', 'Dx:HPV'],\n",
              "      dtype='object')"
            ]
          },
          "metadata": {
            "tags": []
          },
          "execution_count": 35
        }
      ]
    },
    {
      "cell_type": "code",
      "metadata": {
        "id": "Usy21aGTyO1G",
        "colab_type": "code",
        "colab": {
          "base_uri": "https://localhost:8080/",
          "height": 279
        },
        "outputId": "f79b3453-468d-432d-c7f0-3903e86b273e"
      },
      "source": [
        "tdf = df_raw.groupby('Biopsy').mean()[['Dx:CIN', 'Dx:HPV']].reset_index()\n",
        "tdf.Biopsy = tdf.Biopsy.astype(str)\n",
        "tdf = pd.melt(tdf, id_vars = 'Biopsy', var_name = 'Test', value_name = 'Percentage')\n",
        "tdf.Percentage = tdf.Percentage * 100\n",
        "p = sns.barplot('Test', 'Percentage', hue = 'Biopsy', data = tdf)"
      ],
      "execution_count": null,
      "outputs": [
        {
          "output_type": "display_data",
          "data": {
            "image/png": "[encoded data removed]",
            "text/plain": [
              "<Figure size 432x288 with 1 Axes>"
            ]
          },
          "metadata": {
            "tags": []
          }
        }
      ]
    },
    {
      "cell_type": "markdown",
      "metadata": {
        "id": "MYgWiRLV-ntI",
        "colab_type": "text"
      },
      "source": [
        "* Both CIN & HPV tests shows that people diagnosed with cancer has much higher percentage of being tested positive than those not diagnosed with cancer."
      ]
    },
    {
      "cell_type": "markdown",
      "metadata": {
        "id": "18mfkBP_nnLq",
        "colab_type": "text"
      },
      "source": [
        "### Check features correlations"
      ]
    },
    {
      "cell_type": "code",
      "metadata": {
        "id": "B8I6qLB0nrqx",
        "colab_type": "code",
        "colab": {
          "base_uri": "https://localhost:8080/",
          "height": 479
        },
        "outputId": "3d9c5307-2ada-4f37-beed-ef89fe7d6038"
      },
      "source": [
        "plt.figure(figsize = (8, 5))\n",
        "p = sns.heatmap(df_raw[X_train.columns].corr(), cmap=\"RdYlGn_r\")"
      ],
      "execution_count": null,
      "outputs": [
        {
          "output_type": "display_data",
          "data": {
            "image/png": "[encoded data removed]",
            "text/plain": [
              "<Figure size 576x360 with 2 Axes>"
            ]
          },
          "metadata": {
            "tags": []
          }
        }
      ]
    },
    {
      "cell_type": "markdown",
      "metadata": {
        "id": "zVhUnvVVquMT",
        "colab_type": "text"
      },
      "source": [
        "The only features that are alarmingly correlated to each other are the smokes columns, which is no surprise. These columns will be combined into 1."
      ]
    },
    {
      "cell_type": "markdown",
      "metadata": {
        "colab_type": "text",
        "id": "m6uGquV_4jzr"
      },
      "source": [
        "# Pre-processing"
      ]
    },
    {
      "cell_type": "code",
      "metadata": {
        "colab_type": "code",
        "id": "yuP-m1Ew4xaD",
        "colab": {
          "base_uri": "https://localhost:8080/",
          "height": 329
        },
        "outputId": "4de838b1-009d-4863-9071-bd36d976c689"
      },
      "source": [
        "X_train.info()"
      ],
      "execution_count": null,
      "outputs": [
        {
          "output_type": "stream",
          "text": [
            "<class 'pandas.core.frame.DataFrame'>\n",
            "RangeIndex: 529 entries, 0 to 528\n",
            "Data columns (total 11 columns):\n",
            " #   Column                           Non-Null Count  Dtype\n",
            "---  ------                           --------------  -----\n",
            " 0   Age                              529 non-null    int64\n",
            " 1   Number of sexual partners        529 non-null    int64\n",
            " 2   First sexual intercourse         529 non-null    int64\n",
            " 3   Num of pregnancies               529 non-null    int64\n",
            " 4   Smokes (years)                   529 non-null    int64\n",
            " 5   Smokes (packs/year)              529 non-null    int64\n",
            " 6   Hormonal Contraceptives (years)  529 non-null    int64\n",
            " 7   IUD (years)                      529 non-null    int64\n",
            " 8   STDs (number)                    529 non-null    int64\n",
            " 9   Dx:CIN                           529 non-null    int64\n",
            " 10  Dx:HPV                           529 non-null    int64\n",
            "dtypes: int64(11)\n",
            "memory usage: 45.6 KB\n"
          ],
          "name": "stdout"
        }
      ]
    },
    {
      "cell_type": "markdown",
      "metadata": {
        "colab_type": "text",
        "id": "mtnZcVu148Ip"
      },
      "source": [
        "## Perform binning"
      ]
    },
    {
      "cell_type": "code",
      "metadata": {
        "colab_type": "code",
        "id": "Rvho7-40itUD",
        "colab": {}
      },
      "source": [
        "X_train_bin = X_train.copy()\n",
        "X_test_bin = X_test.copy()"
      ],
      "execution_count": null,
      "outputs": []
    },
    {
      "cell_type": "code",
      "metadata": {
        "colab_type": "code",
        "id": "SAUlLMl7498d",
        "colab": {}
      },
      "source": [
        "X_train_bin.Age = X_train_bin.Age.values//10\n",
        "X_test_bin.Age = X_test_bin.Age.values//10"
      ],
      "execution_count": null,
      "outputs": []
    },
    {
      "cell_type": "code",
      "metadata": {
        "colab_type": "code",
        "id": "pJPy6Prhn2Kw",
        "colab": {
          "base_uri": "https://localhost:8080/",
          "height": 80
        },
        "outputId": "3d6d25c2-9108-459f-d109-af053d9230be"
      },
      "source": [
        "X_train_bin[['Number of sexual partners']].describe().T"
      ],
      "execution_count": null,
      "outputs": [
        {
          "output_type": "execute_result",
          "data": {
            "text/html": [
              "<div>\n",
              "<style scoped>\n",
              "    .dataframe tbody tr th:only-of-type {\n",
              "        vertical-align: middle;\n",
              "    }\n",
              "\n",
              "    .dataframe tbody tr th {\n",
              "        vertical-align: top;\n",
              "    }\n",
              "\n",
              "    .dataframe thead th {\n",
              "        text-align: right;\n",
              "    }\n",
              "</style>\n",
              "<table border=\"1\" class=\"dataframe\">\n",
              "  <thead>\n",
              "    <tr style=\"text-align: right;\">\n",
              "      <th></th>\n",
              "      <th>count</th>\n",
              "      <th>mean</th>\n",
              "      <th>std</th>\n",
              "      <th>min</th>\n",
              "      <th>25%</th>\n",
              "      <th>50%</th>\n",
              "      <th>75%</th>\n",
              "      <th>max</th>\n",
              "    </tr>\n",
              "  </thead>\n",
              "  <tbody>\n",
              "    <tr>\n",
              "      <th>Number of sexual partners</th>\n",
              "      <td>529.0</td>\n",
              "      <td>2.536862</td>\n",
              "      <td>1.711996</td>\n",
              "      <td>1.0</td>\n",
              "      <td>2.0</td>\n",
              "      <td>2.0</td>\n",
              "      <td>3.0</td>\n",
              "      <td>28.0</td>\n",
              "    </tr>\n",
              "  </tbody>\n",
              "</table>\n",
              "</div>"
            ],
            "text/plain": [
              "                           count      mean       std  min  25%  50%  75%   max\n",
              "Number of sexual partners  529.0  2.536862  1.711996  1.0  2.0  2.0  3.0  28.0"
            ]
          },
          "metadata": {
            "tags": []
          },
          "execution_count": 106
        }
      ]
    },
    {
      "cell_type": "code",
      "metadata": {
        "colab_type": "code",
        "id": "wn-VYj27BQwy",
        "colab": {}
      },
      "source": [
        "X_train_bin['Number of sexual partners'] = pd.cut(X_train_bin['Number of sexual partners'], [0, 1, 3, 99], labels = [1, 2, 3]).astype(int)\n",
        "X_test_bin['Number of sexual partners'] = pd.cut(X_test_bin['Number of sexual partners'], [0, 1, 3, 99], labels = [1, 2, 3]).astype(int)"
      ],
      "execution_count": null,
      "outputs": []
    },
    {
      "cell_type": "code",
      "metadata": {
        "colab_type": "code",
        "id": "9sJr3qUApjUG",
        "colab": {
          "base_uri": "https://localhost:8080/",
          "height": 80
        },
        "outputId": "d6b49e10-0804-4b4c-e2de-7a14ecd4f64f"
      },
      "source": [
        "X_train_bin[['First sexual intercourse']].describe().T"
      ],
      "execution_count": null,
      "outputs": [
        {
          "output_type": "execute_result",
          "data": {
            "text/html": [
              "<div>\n",
              "<style scoped>\n",
              "    .dataframe tbody tr th:only-of-type {\n",
              "        vertical-align: middle;\n",
              "    }\n",
              "\n",
              "    .dataframe tbody tr th {\n",
              "        vertical-align: top;\n",
              "    }\n",
              "\n",
              "    .dataframe thead th {\n",
              "        text-align: right;\n",
              "    }\n",
              "</style>\n",
              "<table border=\"1\" class=\"dataframe\">\n",
              "  <thead>\n",
              "    <tr style=\"text-align: right;\">\n",
              "      <th></th>\n",
              "      <th>count</th>\n",
              "      <th>mean</th>\n",
              "      <th>std</th>\n",
              "      <th>min</th>\n",
              "      <th>25%</th>\n",
              "      <th>50%</th>\n",
              "      <th>75%</th>\n",
              "      <th>max</th>\n",
              "    </tr>\n",
              "  </thead>\n",
              "  <tbody>\n",
              "    <tr>\n",
              "      <th>First sexual intercourse</th>\n",
              "      <td>529.0</td>\n",
              "      <td>17.058601</td>\n",
              "      <td>2.813382</td>\n",
              "      <td>10.0</td>\n",
              "      <td>15.0</td>\n",
              "      <td>17.0</td>\n",
              "      <td>18.0</td>\n",
              "      <td>32.0</td>\n",
              "    </tr>\n",
              "  </tbody>\n",
              "</table>\n",
              "</div>"
            ],
            "text/plain": [
              "                          count       mean       std  ...   50%   75%   max\n",
              "First sexual intercourse  529.0  17.058601  2.813382  ...  17.0  18.0  32.0\n",
              "\n",
              "[1 rows x 8 columns]"
            ]
          },
          "metadata": {
            "tags": []
          },
          "execution_count": 108
        }
      ]
    },
    {
      "cell_type": "code",
      "metadata": {
        "colab_type": "code",
        "id": "ob2LU5GpEoAc",
        "colab": {}
      },
      "source": [
        "X_train_bin['First sexual intercourse'] = pd.cut(X_train_bin['First sexual intercourse'], [9, 16, 25, 99], labels = [1, 2, 3]).astype(int)\n",
        "X_test_bin['First sexual intercourse'] = pd.cut(X_test_bin['First sexual intercourse'], [9, 16, 25, 99], labels = [1, 2, 3]).astype(int)"
      ],
      "execution_count": null,
      "outputs": []
    },
    {
      "cell_type": "code",
      "metadata": {
        "colab_type": "code",
        "id": "4XCo9luIGx4r",
        "colab": {
          "base_uri": "https://localhost:8080/",
          "height": 80
        },
        "outputId": "ba801363-8d04-4c25-c643-9fbf7c5ec5b9"
      },
      "source": [
        "X_train_bin[['Num of pregnancies']].describe().T"
      ],
      "execution_count": null,
      "outputs": [
        {
          "output_type": "execute_result",
          "data": {
            "text/html": [
              "<div>\n",
              "<style scoped>\n",
              "    .dataframe tbody tr th:only-of-type {\n",
              "        vertical-align: middle;\n",
              "    }\n",
              "\n",
              "    .dataframe tbody tr th {\n",
              "        vertical-align: top;\n",
              "    }\n",
              "\n",
              "    .dataframe thead th {\n",
              "        text-align: right;\n",
              "    }\n",
              "</style>\n",
              "<table border=\"1\" class=\"dataframe\">\n",
              "  <thead>\n",
              "    <tr style=\"text-align: right;\">\n",
              "      <th></th>\n",
              "      <th>count</th>\n",
              "      <th>mean</th>\n",
              "      <th>std</th>\n",
              "      <th>min</th>\n",
              "      <th>25%</th>\n",
              "      <th>50%</th>\n",
              "      <th>75%</th>\n",
              "      <th>max</th>\n",
              "    </tr>\n",
              "  </thead>\n",
              "  <tbody>\n",
              "    <tr>\n",
              "      <th>Num of pregnancies</th>\n",
              "      <td>529.0</td>\n",
              "      <td>2.344045</td>\n",
              "      <td>1.448212</td>\n",
              "      <td>0.0</td>\n",
              "      <td>1.0</td>\n",
              "      <td>2.0</td>\n",
              "      <td>3.0</td>\n",
              "      <td>10.0</td>\n",
              "    </tr>\n",
              "  </tbody>\n",
              "</table>\n",
              "</div>"
            ],
            "text/plain": [
              "                    count      mean       std  min  25%  50%  75%   max\n",
              "Num of pregnancies  529.0  2.344045  1.448212  0.0  1.0  2.0  3.0  10.0"
            ]
          },
          "metadata": {
            "tags": []
          },
          "execution_count": 110
        }
      ]
    },
    {
      "cell_type": "code",
      "metadata": {
        "colab_type": "code",
        "id": "ZJ5VG8rkHNIi",
        "colab": {}
      },
      "source": [
        "X_train_bin['Num of pregnancies'] = pd.cut(X_train_bin['Num of pregnancies'], [-1, 0, 2, 4, 99], labels = [0, 1, 2, 3]).astype(int)\n",
        "X_test_bin['Num of pregnancies'] = pd.cut(X_test_bin['Num of pregnancies'], [-1, 0, 2, 4, 99], labels = [0, 1, 2, 3]).astype(int)"
      ],
      "execution_count": null,
      "outputs": []
    },
    {
      "cell_type": "code",
      "metadata": {
        "colab_type": "code",
        "id": "TBbhV1F-JnNA",
        "colab": {
          "base_uri": "https://localhost:8080/",
          "height": 80
        },
        "outputId": "aae4d39c-19e5-4503-a8d4-bb3b49d95ba4"
      },
      "source": [
        "X_train_bin[['Hormonal Contraceptives (years)']].describe().T"
      ],
      "execution_count": null,
      "outputs": [
        {
          "output_type": "execute_result",
          "data": {
            "text/html": [
              "<div>\n",
              "<style scoped>\n",
              "    .dataframe tbody tr th:only-of-type {\n",
              "        vertical-align: middle;\n",
              "    }\n",
              "\n",
              "    .dataframe tbody tr th {\n",
              "        vertical-align: top;\n",
              "    }\n",
              "\n",
              "    .dataframe thead th {\n",
              "        text-align: right;\n",
              "    }\n",
              "</style>\n",
              "<table border=\"1\" class=\"dataframe\">\n",
              "  <thead>\n",
              "    <tr style=\"text-align: right;\">\n",
              "      <th></th>\n",
              "      <th>count</th>\n",
              "      <th>mean</th>\n",
              "      <th>std</th>\n",
              "      <th>min</th>\n",
              "      <th>25%</th>\n",
              "      <th>50%</th>\n",
              "      <th>75%</th>\n",
              "      <th>max</th>\n",
              "    </tr>\n",
              "  </thead>\n",
              "  <tbody>\n",
              "    <tr>\n",
              "      <th>Hormonal Contraceptives (years)</th>\n",
              "      <td>529.0</td>\n",
              "      <td>2.304348</td>\n",
              "      <td>3.858285</td>\n",
              "      <td>0.0</td>\n",
              "      <td>0.0</td>\n",
              "      <td>0.0</td>\n",
              "      <td>3.0</td>\n",
              "      <td>20.0</td>\n",
              "    </tr>\n",
              "  </tbody>\n",
              "</table>\n",
              "</div>"
            ],
            "text/plain": [
              "                                 count      mean       std  ...  50%  75%   max\n",
              "Hormonal Contraceptives (years)  529.0  2.304348  3.858285  ...  0.0  3.0  20.0\n",
              "\n",
              "[1 rows x 8 columns]"
            ]
          },
          "metadata": {
            "tags": []
          },
          "execution_count": 112
        }
      ]
    },
    {
      "cell_type": "code",
      "metadata": {
        "colab_type": "code",
        "id": "ZHO0AtHvnccK",
        "colab": {
          "base_uri": "https://localhost:8080/",
          "height": 381
        },
        "outputId": "8b0e6159-a682-46a5-b501-367965f75196"
      },
      "source": [
        "X_train_bin['Hormonal Contraceptives (years)'].value_counts()"
      ],
      "execution_count": null,
      "outputs": [
        {
          "output_type": "execute_result",
          "data": {
            "text/plain": [
              "0     290\n",
              "1      54\n",
              "2      30\n",
              "3      25\n",
              "5      22\n",
              "6      21\n",
              "4      20\n",
              "7      16\n",
              "8      12\n",
              "9       8\n",
              "10      8\n",
              "15      6\n",
              "12      4\n",
              "20      4\n",
              "19      2\n",
              "13      2\n",
              "14      2\n",
              "11      1\n",
              "16      1\n",
              "17      1\n",
              "Name: Hormonal Contraceptives (years), dtype: int64"
            ]
          },
          "metadata": {
            "tags": []
          },
          "execution_count": 113
        }
      ]
    },
    {
      "cell_type": "code",
      "metadata": {
        "colab_type": "code",
        "id": "rvQKP7_cvFlh",
        "colab": {}
      },
      "source": [
        "X_train_bin['Hormonal Contraceptives (years)'] = pd.cut(X_train_bin['Hormonal Contraceptives (years)'], [-1, 0, 1, 4, 99],\\\n",
        "                                                        labels = [0, 1, 2, 3]).astype(int)\n",
        "X_test_bin['Hormonal Contraceptives (years)'] = pd.cut(X_test_bin['Hormonal Contraceptives (years)'], [-1, 0, 1, 4, 99],\\\n",
        "                                                       labels = [0, 1, 2, 3]).astype(int)"
      ],
      "execution_count": null,
      "outputs": []
    },
    {
      "cell_type": "code",
      "metadata": {
        "colab_type": "code",
        "id": "bq99-YEI5pHZ",
        "colab": {
          "base_uri": "https://localhost:8080/",
          "height": 80
        },
        "outputId": "f7767d29-ba02-4026-def3-872fe23457b7"
      },
      "source": [
        "X_train_bin[['STDs (number)']].describe().T"
      ],
      "execution_count": null,
      "outputs": [
        {
          "output_type": "execute_result",
          "data": {
            "text/html": [
              "<div>\n",
              "<style scoped>\n",
              "    .dataframe tbody tr th:only-of-type {\n",
              "        vertical-align: middle;\n",
              "    }\n",
              "\n",
              "    .dataframe tbody tr th {\n",
              "        vertical-align: top;\n",
              "    }\n",
              "\n",
              "    .dataframe thead th {\n",
              "        text-align: right;\n",
              "    }\n",
              "</style>\n",
              "<table border=\"1\" class=\"dataframe\">\n",
              "  <thead>\n",
              "    <tr style=\"text-align: right;\">\n",
              "      <th></th>\n",
              "      <th>count</th>\n",
              "      <th>mean</th>\n",
              "      <th>std</th>\n",
              "      <th>min</th>\n",
              "      <th>25%</th>\n",
              "      <th>50%</th>\n",
              "      <th>75%</th>\n",
              "      <th>max</th>\n",
              "    </tr>\n",
              "  </thead>\n",
              "  <tbody>\n",
              "    <tr>\n",
              "      <th>STDs (number)</th>\n",
              "      <td>529.0</td>\n",
              "      <td>0.155009</td>\n",
              "      <td>0.51362</td>\n",
              "      <td>0.0</td>\n",
              "      <td>0.0</td>\n",
              "      <td>0.0</td>\n",
              "      <td>0.0</td>\n",
              "      <td>4.0</td>\n",
              "    </tr>\n",
              "  </tbody>\n",
              "</table>\n",
              "</div>"
            ],
            "text/plain": [
              "               count      mean      std  min  25%  50%  75%  max\n",
              "STDs (number)  529.0  0.155009  0.51362  0.0  0.0  0.0  0.0  4.0"
            ]
          },
          "metadata": {
            "tags": []
          },
          "execution_count": 115
        }
      ]
    },
    {
      "cell_type": "code",
      "metadata": {
        "colab_type": "code",
        "id": "1xT3Mupl5rKE",
        "colab": {
          "base_uri": "https://localhost:8080/",
          "height": 121
        },
        "outputId": "19c2d0c6-16e0-4d70-d551-4fba5503df8f"
      },
      "source": [
        "X_train_bin['STDs (number)'].value_counts()"
      ],
      "execution_count": null,
      "outputs": [
        {
          "output_type": "execute_result",
          "data": {
            "text/plain": [
              "0    478\n",
              "2     26\n",
              "1     23\n",
              "4      1\n",
              "3      1\n",
              "Name: STDs (number), dtype: int64"
            ]
          },
          "metadata": {
            "tags": []
          },
          "execution_count": 116
        }
      ]
    },
    {
      "cell_type": "markdown",
      "metadata": {
        "colab_type": "text",
        "id": "kXe7K4LJ58R5"
      },
      "source": [
        "STDs (number) column almost contains all 0, so anything not 0 we'll just indicate with 1."
      ]
    },
    {
      "cell_type": "code",
      "metadata": {
        "colab_type": "code",
        "id": "iJAE9tjG53dO",
        "colab": {}
      },
      "source": [
        "X_train_bin['STDs (number)'] = (X_train_bin['STDs (number)'].values > 0).astype(int)\n",
        "X_test_bin['STDs (number)'] = (X_test_bin['STDs (number)'].values > 0).astype(int)"
      ],
      "execution_count": null,
      "outputs": []
    },
    {
      "cell_type": "code",
      "metadata": {
        "colab_type": "code",
        "id": "087ICKe315rJ",
        "colab": {
          "base_uri": "https://localhost:8080/",
          "height": 80
        },
        "outputId": "4429de6d-60ca-4768-b350-615334188213"
      },
      "source": [
        "X_train_bin[['IUD (years)']].describe().T"
      ],
      "execution_count": null,
      "outputs": [
        {
          "output_type": "execute_result",
          "data": {
            "text/html": [
              "<div>\n",
              "<style scoped>\n",
              "    .dataframe tbody tr th:only-of-type {\n",
              "        vertical-align: middle;\n",
              "    }\n",
              "\n",
              "    .dataframe tbody tr th {\n",
              "        vertical-align: top;\n",
              "    }\n",
              "\n",
              "    .dataframe thead th {\n",
              "        text-align: right;\n",
              "    }\n",
              "</style>\n",
              "<table border=\"1\" class=\"dataframe\">\n",
              "  <thead>\n",
              "    <tr style=\"text-align: right;\">\n",
              "      <th></th>\n",
              "      <th>count</th>\n",
              "      <th>mean</th>\n",
              "      <th>std</th>\n",
              "      <th>min</th>\n",
              "      <th>25%</th>\n",
              "      <th>50%</th>\n",
              "      <th>75%</th>\n",
              "      <th>max</th>\n",
              "    </tr>\n",
              "  </thead>\n",
              "  <tbody>\n",
              "    <tr>\n",
              "      <th>IUD (years)</th>\n",
              "      <td>529.0</td>\n",
              "      <td>0.616257</td>\n",
              "      <td>2.208412</td>\n",
              "      <td>0.0</td>\n",
              "      <td>0.0</td>\n",
              "      <td>0.0</td>\n",
              "      <td>0.0</td>\n",
              "      <td>19.0</td>\n",
              "    </tr>\n",
              "  </tbody>\n",
              "</table>\n",
              "</div>"
            ],
            "text/plain": [
              "             count      mean       std  min  25%  50%  75%   max\n",
              "IUD (years)  529.0  0.616257  2.208412  0.0  0.0  0.0  0.0  19.0"
            ]
          },
          "metadata": {
            "tags": []
          },
          "execution_count": 118
        }
      ]
    },
    {
      "cell_type": "code",
      "metadata": {
        "colab_type": "code",
        "id": "WYcifqPW2IO3",
        "colab": {
          "base_uri": "https://localhost:8080/",
          "height": 138
        },
        "outputId": "c5cf55ba-6d0f-4632-9610-54e8ed217f50"
      },
      "source": [
        "X_train_bin['IUD (years)'].value_counts()[:6]"
      ],
      "execution_count": null,
      "outputs": [
        {
          "output_type": "execute_result",
          "data": {
            "text/plain": [
              "0    473\n",
              "8      7\n",
              "7      7\n",
              "3      7\n",
              "4      6\n",
              "2      6\n",
              "Name: IUD (years), dtype: int64"
            ]
          },
          "metadata": {
            "tags": []
          },
          "execution_count": 119
        }
      ]
    },
    {
      "cell_type": "markdown",
      "metadata": {
        "colab_type": "text",
        "id": "UsSLAYF_2Wz_"
      },
      "source": [
        "IUD (years) column almost contains all 0, so anything not 0 we'll just indicate with 1."
      ]
    },
    {
      "cell_type": "code",
      "metadata": {
        "colab_type": "code",
        "id": "erOr4AzX2j5W",
        "colab": {}
      },
      "source": [
        "X_train_bin['IUD (years)'] = (X_train_bin['IUD (years)'].values > 0).astype(int)\n",
        "X_test_bin['IUD (years)'] = (X_test_bin['IUD (years)'].values > 0).astype(int)"
      ],
      "execution_count": null,
      "outputs": []
    },
    {
      "cell_type": "markdown",
      "metadata": {
        "colab_type": "text",
        "id": "HsgCWXQTIDiY"
      },
      "source": [
        "\n",
        "## Combine 2 smokes columns"
      ]
    },
    {
      "cell_type": "code",
      "metadata": {
        "colab_type": "code",
        "id": "3dNKEWzwIHi3",
        "colab": {}
      },
      "source": [
        "X_train['smokes'] = X_train['Smokes (packs/year)'].values * X_train['Smokes (years)'].values\n",
        "X_test['smokes'] = X_test['Smokes (packs/year)'].values * X_test['Smokes (years)'].values\n",
        "X_train.drop(columns = ['Smokes (years)', 'Smokes (packs/year)'], inplace = 1 == 1)\n",
        "X_test.drop(columns = ['Smokes (years)', 'Smokes (packs/year)'], inplace = 1 == 1)\n",
        "X_train_bin['smokes'] = X_train_bin['Smokes (packs/year)'].values * X_train_bin['Smokes (years)'].values\n",
        "X_test_bin['smokes'] = X_test_bin['Smokes (packs/year)'].values * X_test_bin['Smokes (years)'].values\n",
        "X_train_bin.drop(columns = ['Smokes (years)', 'Smokes (packs/year)'], inplace = 1 == 1)\n",
        "X_test_bin.drop(columns = ['Smokes (years)', 'Smokes (packs/year)'], inplace = 1 == 1)"
      ],
      "execution_count": null,
      "outputs": []
    },
    {
      "cell_type": "code",
      "metadata": {
        "colab_type": "code",
        "id": "C73NnFqqxsFX",
        "colab": {
          "base_uri": "https://localhost:8080/",
          "height": 80
        },
        "outputId": "44c964f0-83e1-4fd4-83ad-6e9c55d61cbb"
      },
      "source": [
        "X_train_bin[['smokes']].describe().T"
      ],
      "execution_count": null,
      "outputs": [
        {
          "output_type": "execute_result",
          "data": {
            "text/html": [
              "<div>\n",
              "<style scoped>\n",
              "    .dataframe tbody tr th:only-of-type {\n",
              "        vertical-align: middle;\n",
              "    }\n",
              "\n",
              "    .dataframe tbody tr th {\n",
              "        vertical-align: top;\n",
              "    }\n",
              "\n",
              "    .dataframe thead th {\n",
              "        text-align: right;\n",
              "    }\n",
              "</style>\n",
              "<table border=\"1\" class=\"dataframe\">\n",
              "  <thead>\n",
              "    <tr style=\"text-align: right;\">\n",
              "      <th></th>\n",
              "      <th>count</th>\n",
              "      <th>mean</th>\n",
              "      <th>std</th>\n",
              "      <th>min</th>\n",
              "      <th>25%</th>\n",
              "      <th>50%</th>\n",
              "      <th>75%</th>\n",
              "      <th>max</th>\n",
              "    </tr>\n",
              "  </thead>\n",
              "  <tbody>\n",
              "    <tr>\n",
              "      <th>smokes</th>\n",
              "      <td>529.0</td>\n",
              "      <td>8.52741</td>\n",
              "      <td>70.39192</td>\n",
              "      <td>0.0</td>\n",
              "      <td>0.0</td>\n",
              "      <td>0.0</td>\n",
              "      <td>0.0</td>\n",
              "      <td>1369.0</td>\n",
              "    </tr>\n",
              "  </tbody>\n",
              "</table>\n",
              "</div>"
            ],
            "text/plain": [
              "        count     mean       std  min  25%  50%  75%     max\n",
              "smokes  529.0  8.52741  70.39192  0.0  0.0  0.0  0.0  1369.0"
            ]
          },
          "metadata": {
            "tags": []
          },
          "execution_count": 122
        }
      ]
    },
    {
      "cell_type": "code",
      "metadata": {
        "colab_type": "code",
        "id": "MigoXYSn0mKI",
        "colab": {
          "base_uri": "https://localhost:8080/",
          "height": 207
        },
        "outputId": "b275aff1-4ed0-4529-bf02-4cc6090c84c5"
      },
      "source": [
        "X_train_bin['smokes'].value_counts()[:10]"
      ],
      "execution_count": null,
      "outputs": [
        {
          "output_type": "execute_result",
          "data": {
            "text/plain": [
              "0     485\n",
              "2       4\n",
              "16      3\n",
              "18      2\n",
              "36      2\n",
              "25      2\n",
              "7       2\n",
              "9       2\n",
              "72      2\n",
              "22      1\n",
              "Name: smokes, dtype: int64"
            ]
          },
          "metadata": {
            "tags": []
          },
          "execution_count": 123
        }
      ]
    },
    {
      "cell_type": "markdown",
      "metadata": {
        "colab_type": "text",
        "id": "LristWLj0VMx"
      },
      "source": [
        "smokes column almost contains all 0, so anything not 0 we'll just indicate with 1."
      ]
    },
    {
      "cell_type": "code",
      "metadata": {
        "colab_type": "code",
        "id": "WM0GDQq50SdS",
        "colab": {}
      },
      "source": [
        "X_train_bin.smokes = (X_train_bin.smokes.values > 0).astype(int)\n",
        "X_test_bin.smokes = (X_test_bin.smokes.values > 0).astype(int)"
      ],
      "execution_count": null,
      "outputs": []
    },
    {
      "cell_type": "markdown",
      "metadata": {
        "colab_type": "text",
        "id": "X9vLAWBI84Bz"
      },
      "source": [
        "## Use Smote Algorithm to deal with imbalance data."
      ]
    },
    {
      "cell_type": "code",
      "metadata": {
        "colab_type": "code",
        "id": "xcmSq1j29kqR",
        "colab": {}
      },
      "source": [
        "X_smote_bin, y_smote_bin = smote().fit_resample(X_train_bin, y_train)\n",
        "X_smote, y_smote = smote().fit_resample(X_train, y_train)\n",
        "X_smote_bin = pd.DataFrame(X_smote_bin, columns = X_train_bin.columns)\n",
        "X_smote = pd.DataFrame(X_smote, columns = X_train.columns)"
      ],
      "execution_count": null,
      "outputs": []
    },
    {
      "cell_type": "markdown",
      "metadata": {
        "id": "tlDpMYmAxAII",
        "colab_type": "text"
      },
      "source": [
        "### Scale data"
      ]
    },
    {
      "cell_type": "code",
      "metadata": {
        "id": "AAcS2P93w_0I",
        "colab_type": "code",
        "colab": {}
      },
      "source": [
        "scaler = skl.preprocessing.MinMaxScaler()\n",
        "scaler.fit(X_smote)\n",
        "X_smote_scale = pd.DataFrame(scaler.transform(X_smote), columns = X_smote.columns)\n",
        "X_test_scale = pd.DataFrame(scaler.transform(X_test), columns = X_smote.columns)"
      ],
      "execution_count": null,
      "outputs": []
    },
    {
      "cell_type": "markdown",
      "metadata": {
        "colab_type": "text",
        "id": "N-ae2FaVOgxL"
      },
      "source": [
        "# Modeling"
      ]
    },
    {
      "cell_type": "code",
      "metadata": {
        "colab_type": "code",
        "id": "iIIYAQf2_X89",
        "colab": {}
      },
      "source": [
        "grids = {\n",
        "    'Random Forest': {'n_estimators': [50, 100, 200, 500], \n",
        "                     'criterion': ['gini', 'entropy'], \n",
        "                     'min_samples_split': [2, 5, 10, 20]},\n",
        "    \n",
        "    'Ada Boosted Decision Tree': {'n_estimators': [50, 100, 200, 500], \n",
        "                     'learning_rate': [0.0001, 0.001, 0.01, 0.1, 1, 10], \n",
        "                     'algorithm': ['SAMME', 'SAMME.R']},\n",
        "         \n",
        "    'Gradient Boosted Decision Tree': {'learning_rate': [.0001, 0.001, 0.01, 0.1, 0.2, 0.3],\n",
        "                                       'n_estimators': [20, 50, 100, 200],\n",
        "                                       'criterion': ['friedman_mse', 'mse', 'mae'],\n",
        "                                       'min_samples_split': [2, 5, 10, 20],\n",
        "                                       'max_depth': [3, 5, 7]},\n",
        "         \n",
        "    'SVM': {'C': [10**p for p in range(-2, 3)],\n",
        "            'kernel': ['linear', 'poly', 'rbf', 'sigmoid'],\n",
        "            'degree': [2, 3 , 4],\n",
        "            'gamma': ['scale', 'auto'],\n",
        "            'class_weight': [{0:.3, 1:.7}, {0:.2, 1:.8}, {0:.4, 1:.6}, None]},\n",
        "    \n",
        "    'KNN': {'n_neighbors': [3, 5, 8 , 10, 20],\n",
        "            'algorithm': ['auto', 'ball_tree', 'kd_tree', 'brute'],\n",
        "            'leaf_size': [20, 25, 30 , 35, 40],\n",
        "            'p': range(1, X_smote_bin.shape[0] + 1),\n",
        "            'weights': ['uniform', 'distance']},\n",
        "    \n",
        "    'Logistic Regression': {'C':  [10**p for p in range(-2, 3)],\n",
        "                            'class_weight': [{0:.3, 1:.7}, {0:.2, 1:.8}, {0:.4, 1:.6}, None],\n",
        "                            'solver': ['newton-cg', 'lbfgs', 'liblinear', 'sag', 'saga'],\n",
        "                            'penalty': ['l1', 'l2', 'elasticnet']},\n",
        "    \n",
        "    'Ridge Regression Classifier': {'alpha': [.1, 1, 1.5, 2, 2.5],\n",
        "                                    'class_weight': [{0:.3, 1:.7}, {0:.2, 1:.8}, {0:.4, 1:.6}, None],\n",
        "                                    'solver': ['auto', 'svd', 'cholesky', 'lsqr', 'sparse_cg', 'sag', 'saga']}\n",
        "}\n",
        "clfs = [skl.ensemble.RandomForestClassifier(), skl.ensemble.AdaBoostClassifier(), \n",
        "                                       skl.ensemble.GradientBoostingClassifier(),skl.svm.SVC(), skl.neighbors.KNeighborsClassifier(), \n",
        "                                       skl.linear_model.LogisticRegression(), skl.linear_model.RidgeClassifier()]\n",
        "score = skl.metrics.make_scorer(skl.metrics.f1_score)"
      ],
      "execution_count": null,
      "outputs": []
    },
    {
      "cell_type": "markdown",
      "metadata": {
        "id": "B_Z5fDknuoyF",
        "colab_type": "text"
      },
      "source": [
        "### Use the unbinned scaled data with SMOTE for model selection."
      ]
    },
    {
      "cell_type": "code",
      "metadata": {
        "id": "oK4ObaoKBoBB",
        "colab_type": "code",
        "colab": {
          "base_uri": "https://localhost:8080/",
          "height": 268
        },
        "outputId": "1110c358-a239-45ef-80ef-6f9540fb2a48"
      },
      "source": [
        "scores = []\n",
        "params = []\n",
        "for grid, mod in zip(grids.values(), clfs):\n",
        "    clf = skl.model_selection.RandomizedSearchCV(mod, grid, scoring = score, cv = 3)\n",
        "    search = clf.fit(X_smote_scale, y_smote)\n",
        "    params += [search.best_params_]\n",
        "    scores += [search.best_score_.round(2)]\n",
        "df_models = pd.DataFrame({'model': list(grids.keys()), 'cv_score_recall': scores, 'parameters': params, 'note': 'Scaled'})\n",
        "df_models"
      ],
      "execution_count": null,
      "outputs": [
        {
          "output_type": "execute_result",
          "data": {
            "text/html": [
              "<div>\n",
              "<style scoped>\n",
              "    .dataframe tbody tr th:only-of-type {\n",
              "        vertical-align: middle;\n",
              "    }\n",
              "\n",
              "    .dataframe tbody tr th {\n",
              "        vertical-align: top;\n",
              "    }\n",
              "\n",
              "    .dataframe thead th {\n",
              "        text-align: right;\n",
              "    }\n",
              "</style>\n",
              "<table border=\"1\" class=\"dataframe\">\n",
              "  <thead>\n",
              "    <tr style=\"text-align: right;\">\n",
              "      <th></th>\n",
              "      <th>model</th>\n",
              "      <th>cv_score_recall</th>\n",
              "      <th>parameters</th>\n",
              "      <th>note</th>\n",
              "    </tr>\n",
              "  </thead>\n",
              "  <tbody>\n",
              "    <tr>\n",
              "      <th>0</th>\n",
              "      <td>Random Forest</td>\n",
              "      <td>0.84</td>\n",
              "      <td>{'n_estimators': 100, 'min_samples_split': 2, ...</td>\n",
              "      <td>Scaled</td>\n",
              "    </tr>\n",
              "    <tr>\n",
              "      <th>1</th>\n",
              "      <td>Ada Boosted Decision Tree</td>\n",
              "      <td>0.72</td>\n",
              "      <td>{'n_estimators': 500, 'learning_rate': 1, 'alg...</td>\n",
              "      <td>Scaled</td>\n",
              "    </tr>\n",
              "    <tr>\n",
              "      <th>2</th>\n",
              "      <td>Gradient Boosted Decision Tree</td>\n",
              "      <td>0.81</td>\n",
              "      <td>{'n_estimators': 50, 'min_samples_split': 2, '...</td>\n",
              "      <td>Scaled</td>\n",
              "    </tr>\n",
              "    <tr>\n",
              "      <th>3</th>\n",
              "      <td>SVM</td>\n",
              "      <td>0.77</td>\n",
              "      <td>{'kernel': 'rbf', 'gamma': 'scale', 'degree': ...</td>\n",
              "      <td>Scaled</td>\n",
              "    </tr>\n",
              "    <tr>\n",
              "      <th>4</th>\n",
              "      <td>KNN</td>\n",
              "      <td>0.76</td>\n",
              "      <td>{'weights': 'distance', 'p': 189, 'n_neighbors...</td>\n",
              "      <td>Scaled</td>\n",
              "    </tr>\n",
              "    <tr>\n",
              "      <th>5</th>\n",
              "      <td>Logistic Regression</td>\n",
              "      <td>0.67</td>\n",
              "      <td>{'solver': 'saga', 'penalty': 'l1', 'class_wei...</td>\n",
              "      <td>Scaled</td>\n",
              "    </tr>\n",
              "    <tr>\n",
              "      <th>6</th>\n",
              "      <td>Ridge Regression Classifier</td>\n",
              "      <td>0.67</td>\n",
              "      <td>{'solver': 'cholesky', 'class_weight': {0: 0.4...</td>\n",
              "      <td>Scaled</td>\n",
              "    </tr>\n",
              "  </tbody>\n",
              "</table>\n",
              "</div>"
            ],
            "text/plain": [
              "                            model  ...    note\n",
              "0                   Random Forest  ...  Scaled\n",
              "1       Ada Boosted Decision Tree  ...  Scaled\n",
              "2  Gradient Boosted Decision Tree  ...  Scaled\n",
              "3                             SVM  ...  Scaled\n",
              "4                             KNN  ...  Scaled\n",
              "5             Logistic Regression  ...  Scaled\n",
              "6     Ridge Regression Classifier  ...  Scaled\n",
              "\n",
              "[7 rows x 4 columns]"
            ]
          },
          "metadata": {
            "tags": []
          },
          "execution_count": 31
        }
      ]
    },
    {
      "cell_type": "markdown",
      "metadata": {
        "id": "tQCCLFMq1rnf",
        "colab_type": "text"
      },
      "source": [
        "Seems like Random Forest and GB Decision tree has the best predicting power. We'll just use Random Forest."
      ]
    },
    {
      "cell_type": "code",
      "metadata": {
        "id": "psMFG4bXjqdP",
        "colab_type": "code",
        "colab": {}
      },
      "source": [
        "best_params = df_models.parameters[0]"
      ],
      "execution_count": null,
      "outputs": []
    },
    {
      "cell_type": "markdown",
      "metadata": {
        "id": "sg0J-QNj4Tcu",
        "colab_type": "text"
      },
      "source": [
        "### Scaling doesn't matter for Random Forest, but let's double check."
      ]
    },
    {
      "cell_type": "code",
      "metadata": {
        "colab_type": "code",
        "id": "F5Zf-wa14fUx",
        "colab": {
          "base_uri": "https://localhost:8080/",
          "height": 34
        },
        "outputId": "e03829f4-8f51-467b-cfa6-e3b878c4215f"
      },
      "source": [
        "clf = skl.ensemble.RandomForestClassifier(**best_params)\n",
        "skl.model_selection.cross_val_score(clf, X_smote, y_smote, scoring = score, cv = 3).mean().round(2)"
      ],
      "execution_count": null,
      "outputs": [
        {
          "output_type": "execute_result",
          "data": {
            "text/plain": [
              "0.84"
            ]
          },
          "metadata": {
            "tags": []
          },
          "execution_count": 38
        }
      ]
    },
    {
      "cell_type": "markdown",
      "metadata": {
        "id": "IZvGKo-N2LYc",
        "colab_type": "text"
      },
      "source": [
        "### Check if using binned data improve the predicting power of Random Forest."
      ]
    },
    {
      "cell_type": "code",
      "metadata": {
        "id": "-l8E01MR2Uyg",
        "colab_type": "code",
        "colab": {
          "base_uri": "https://localhost:8080/",
          "height": 34
        },
        "outputId": "90ac0f0e-03e8-4f3e-f40b-1385be95fe1a"
      },
      "source": [
        "clf = skl.ensemble.RandomForestClassifier(**best_params)\n",
        "skl.model_selection.cross_val_score(clf, X_smote_bin, y_smote_bin, scoring = score, cv = 3).mean().round(2)"
      ],
      "execution_count": null,
      "outputs": [
        {
          "output_type": "execute_result",
          "data": {
            "text/plain": [
              "0.77"
            ]
          },
          "metadata": {
            "tags": []
          },
          "execution_count": 34
        }
      ]
    },
    {
      "cell_type": "markdown",
      "metadata": {
        "id": "FQ7DYZoU3vxO",
        "colab_type": "text"
      },
      "source": [
        "Binning data seems to reduce the model's predicting power."
      ]
    },
    {
      "cell_type": "markdown",
      "metadata": {
        "id": "8KndwBnNwQgG",
        "colab_type": "text"
      },
      "source": [
        "### Random Forest is robust to skewed features, but lets just double check."
      ]
    },
    {
      "cell_type": "code",
      "metadata": {
        "colab_type": "code",
        "id": "gG4Cw253ILre",
        "colab": {
          "base_uri": "https://localhost:8080/",
          "height": 207
        },
        "outputId": "b64b1eba-43a7-44cd-ba6c-ddf0125285e0"
      },
      "source": [
        "X_smote.skew()"
      ],
      "execution_count": null,
      "outputs": [
        {
          "output_type": "execute_result",
          "data": {
            "text/plain": [
              "Age                                 1.028711\n",
              "Number of sexual partners           6.559034\n",
              "First sexual intercourse            1.451518\n",
              "Num of pregnancies                  1.184885\n",
              "Hormonal Contraceptives (years)     2.120293\n",
              "IUD (years)                         5.311012\n",
              "STDs (number)                       3.279269\n",
              "Dx:CIN                             17.663422\n",
              "Dx:HPV                              7.746433\n",
              "smokes                             17.309353\n",
              "dtype: float64"
            ]
          },
          "metadata": {
            "tags": []
          },
          "execution_count": 132
        }
      ]
    },
    {
      "cell_type": "markdown",
      "metadata": {
        "id": "26TKsR_nxIYW",
        "colab_type": "text"
      },
      "source": [
        "Log tranform to reduce skewness"
      ]
    },
    {
      "cell_type": "code",
      "metadata": {
        "id": "rVMdreMIwurv",
        "colab_type": "code",
        "colab": {
          "base_uri": "https://localhost:8080/",
          "height": 207
        },
        "outputId": "96bb9205-e63d-4178-b9fb-d44fb23366b7"
      },
      "source": [
        "def log_trans(x):\n",
        "    if x == 0: return np.log(.00000001)\n",
        "    return np.log(x)\n",
        "X_smote_log = X_smote.applymap(log_trans)\n",
        "X_smote_log.skew()"
      ],
      "execution_count": null,
      "outputs": [
        {
          "output_type": "execute_result",
          "data": {
            "text/plain": [
              "Age                                 0.266489\n",
              "Number of sexual partners          -0.188863\n",
              "First sexual intercourse            0.784278\n",
              "Num of pregnancies                 -9.254803\n",
              "Hormonal Contraceptives (years)     0.269036\n",
              "IUD (years)                         1.789011\n",
              "STDs (number)                       2.212269\n",
              "Dx:CIN                             17.663422\n",
              "Dx:HPV                              7.036365\n",
              "smokes                              2.608353\n",
              "dtype: float64"
            ]
          },
          "metadata": {
            "tags": []
          },
          "execution_count": 39
        }
      ]
    },
    {
      "cell_type": "markdown",
      "metadata": {
        "id": "O9UEv6sghJMz",
        "colab_type": "text"
      },
      "source": [
        "The log transformation helped to reduce the skewness except STDs. "
      ]
    },
    {
      "cell_type": "code",
      "metadata": {
        "colab_type": "code",
        "id": "N6vto0WbiImy",
        "colab": {
          "base_uri": "https://localhost:8080/",
          "height": 34
        },
        "outputId": "6af5b848-cae1-40ba-d996-c5ea313651b3"
      },
      "source": [
        "clf = skl.ensemble.RandomForestClassifier(**best_params)\n",
        "skl.model_selection.cross_val_score(clf, X_smote_log, y_smote, scoring = score, cv = 3).mean().round(2)"
      ],
      "execution_count": null,
      "outputs": [
        {
          "output_type": "execute_result",
          "data": {
            "text/plain": [
              "0.83"
            ]
          },
          "metadata": {
            "tags": []
          },
          "execution_count": 49
        }
      ]
    },
    {
      "cell_type": "markdown",
      "metadata": {
        "id": "Fz2VjHyoiUeI",
        "colab_type": "text"
      },
      "source": [
        "No effect as expected."
      ]
    },
    {
      "cell_type": "markdown",
      "metadata": {
        "id": "hi7mCcI4mOaj",
        "colab_type": "text"
      },
      "source": [
        "### Try dropping some features"
      ]
    },
    {
      "cell_type": "code",
      "metadata": {
        "colab_type": "code",
        "id": "kmlbIuZHnBg4",
        "colab": {
          "base_uri": "https://localhost:8080/",
          "height": 155
        },
        "outputId": "7d3b01f3-0ec3-4034-a5ad-caa76bd10c5f"
      },
      "source": [
        "clf = skl.ensemble.RandomForestClassifier(**best_params)\n",
        "clf.fit(X_smote, y_smote)"
      ],
      "execution_count": null,
      "outputs": [
        {
          "output_type": "execute_result",
          "data": {
            "text/plain": [
              "RandomForestClassifier(bootstrap=True, ccp_alpha=0.0, class_weight=None,\n",
              "                       criterion='entropy', max_depth=None, max_features='auto',\n",
              "                       max_leaf_nodes=None, max_samples=None,\n",
              "                       min_impurity_decrease=0.0, min_impurity_split=None,\n",
              "                       min_samples_leaf=1, min_samples_split=2,\n",
              "                       min_weight_fraction_leaf=0.0, n_estimators=100,\n",
              "                       n_jobs=None, oob_score=False, random_state=None,\n",
              "                       verbose=0, warm_start=False)"
            ]
          },
          "metadata": {
            "tags": []
          },
          "execution_count": 50
        }
      ]
    },
    {
      "cell_type": "markdown",
      "metadata": {
        "id": "q72MtnjFnOrV",
        "colab_type": "text"
      },
      "source": [
        "Check for important features"
      ]
    },
    {
      "cell_type": "code",
      "metadata": {
        "id": "PgkDi_Xxm-wA",
        "colab_type": "code",
        "colab": {
          "base_uri": "https://localhost:8080/",
          "height": 207
        },
        "outputId": "11c55421-5d13-4b30-a8d2-0ffd53feed49"
      },
      "source": [
        "feat_imp = pd.Series(clf.feature_importances_, index = X_smote.columns).sort_values(ascending = 1 == 2)\n",
        "feat_imp"
      ],
      "execution_count": null,
      "outputs": [
        {
          "output_type": "execute_result",
          "data": {
            "text/plain": [
              "Age                                0.264026\n",
              "First sexual intercourse           0.195484\n",
              "Number of sexual partners          0.137785\n",
              "Num of pregnancies                 0.123777\n",
              "Hormonal Contraceptives (years)    0.115082\n",
              "smokes                             0.059266\n",
              "STDs (number)                      0.057971\n",
              "IUD (years)                        0.042151\n",
              "Dx:HPV                             0.003713\n",
              "Dx:CIN                             0.000746\n",
              "dtype: float64"
            ]
          },
          "metadata": {
            "tags": []
          },
          "execution_count": 167
        }
      ]
    },
    {
      "cell_type": "markdown",
      "metadata": {
        "id": "YW5FC282ogmt",
        "colab_type": "text"
      },
      "source": [
        "Use top 5 most important features to see if model improves."
      ]
    },
    {
      "cell_type": "code",
      "metadata": {
        "colab_type": "code",
        "id": "FPShcGaQpSjH",
        "colab": {
          "base_uri": "https://localhost:8080/",
          "height": 34
        },
        "outputId": "6d481fea-3c9a-4b46-aba2-520f52c39e87"
      },
      "source": [
        "clf = skl.ensemble.RandomForestClassifier(**best_params)\n",
        "skl.model_selection.cross_val_score(clf, X_smote[feat_imp.index[:5]], y_smote, scoring = score, cv = 3).mean().round(2)"
      ],
      "execution_count": null,
      "outputs": [
        {
          "output_type": "execute_result",
          "data": {
            "text/plain": [
              "0.81"
            ]
          },
          "metadata": {
            "tags": []
          },
          "execution_count": 168
        }
      ]
    },
    {
      "cell_type": "markdown",
      "metadata": {
        "id": "gyc-dqsep7cN",
        "colab_type": "text"
      },
      "source": [
        "Dropping features does not improve the model."
      ]
    },
    {
      "cell_type": "code",
      "metadata": {
        "id": "gbMVFJWCId_x",
        "colab_type": "code",
        "colab": {
          "base_uri": "https://localhost:8080/",
          "height": 362
        },
        "outputId": "820db49a-dbb8-4518-9a7b-65e908a04600"
      },
      "source": [
        "X_smote.describe().T"
      ],
      "execution_count": null,
      "outputs": [
        {
          "output_type": "execute_result",
          "data": {
            "text/html": [
              "<div>\n",
              "<style scoped>\n",
              "    .dataframe tbody tr th:only-of-type {\n",
              "        vertical-align: middle;\n",
              "    }\n",
              "\n",
              "    .dataframe tbody tr th {\n",
              "        vertical-align: top;\n",
              "    }\n",
              "\n",
              "    .dataframe thead th {\n",
              "        text-align: right;\n",
              "    }\n",
              "</style>\n",
              "<table border=\"1\" class=\"dataframe\">\n",
              "  <thead>\n",
              "    <tr style=\"text-align: right;\">\n",
              "      <th></th>\n",
              "      <th>count</th>\n",
              "      <th>mean</th>\n",
              "      <th>std</th>\n",
              "      <th>min</th>\n",
              "      <th>25%</th>\n",
              "      <th>50%</th>\n",
              "      <th>75%</th>\n",
              "      <th>max</th>\n",
              "    </tr>\n",
              "  </thead>\n",
              "  <tbody>\n",
              "    <tr>\n",
              "      <th>Age</th>\n",
              "      <td>942.0</td>\n",
              "      <td>27.114650</td>\n",
              "      <td>8.145960</td>\n",
              "      <td>13.0</td>\n",
              "      <td>21.0</td>\n",
              "      <td>26.0</td>\n",
              "      <td>32.75</td>\n",
              "      <td>79.0</td>\n",
              "    </tr>\n",
              "    <tr>\n",
              "      <th>Number of sexual partners</th>\n",
              "      <td>942.0</td>\n",
              "      <td>2.329087</td>\n",
              "      <td>1.441743</td>\n",
              "      <td>1.0</td>\n",
              "      <td>1.0</td>\n",
              "      <td>2.0</td>\n",
              "      <td>3.00</td>\n",
              "      <td>28.0</td>\n",
              "    </tr>\n",
              "    <tr>\n",
              "      <th>First sexual intercourse</th>\n",
              "      <td>942.0</td>\n",
              "      <td>16.773885</td>\n",
              "      <td>2.388165</td>\n",
              "      <td>10.0</td>\n",
              "      <td>15.0</td>\n",
              "      <td>17.0</td>\n",
              "      <td>18.00</td>\n",
              "      <td>32.0</td>\n",
              "    </tr>\n",
              "    <tr>\n",
              "      <th>Num of pregnancies</th>\n",
              "      <td>942.0</td>\n",
              "      <td>2.225053</td>\n",
              "      <td>1.285201</td>\n",
              "      <td>0.0</td>\n",
              "      <td>1.0</td>\n",
              "      <td>2.0</td>\n",
              "      <td>3.00</td>\n",
              "      <td>10.0</td>\n",
              "    </tr>\n",
              "    <tr>\n",
              "      <th>Hormonal Contraceptives (years)</th>\n",
              "      <td>942.0</td>\n",
              "      <td>2.282378</td>\n",
              "      <td>3.985479</td>\n",
              "      <td>0.0</td>\n",
              "      <td>0.0</td>\n",
              "      <td>0.0</td>\n",
              "      <td>3.00</td>\n",
              "      <td>20.0</td>\n",
              "    </tr>\n",
              "    <tr>\n",
              "      <th>IUD (years)</th>\n",
              "      <td>942.0</td>\n",
              "      <td>0.472399</td>\n",
              "      <td>1.775013</td>\n",
              "      <td>0.0</td>\n",
              "      <td>0.0</td>\n",
              "      <td>0.0</td>\n",
              "      <td>0.00</td>\n",
              "      <td>19.0</td>\n",
              "    </tr>\n",
              "    <tr>\n",
              "      <th>STDs (number)</th>\n",
              "      <td>942.0</td>\n",
              "      <td>0.160297</td>\n",
              "      <td>0.466514</td>\n",
              "      <td>0.0</td>\n",
              "      <td>0.0</td>\n",
              "      <td>0.0</td>\n",
              "      <td>0.00</td>\n",
              "      <td>4.0</td>\n",
              "    </tr>\n",
              "    <tr>\n",
              "      <th>Dx:CIN</th>\n",
              "      <td>942.0</td>\n",
              "      <td>0.003185</td>\n",
              "      <td>0.056373</td>\n",
              "      <td>0.0</td>\n",
              "      <td>0.0</td>\n",
              "      <td>0.0</td>\n",
              "      <td>0.00</td>\n",
              "      <td>1.0</td>\n",
              "    </tr>\n",
              "    <tr>\n",
              "      <th>Dx:HPV</th>\n",
              "      <td>942.0</td>\n",
              "      <td>0.015924</td>\n",
              "      <td>0.125246</td>\n",
              "      <td>0.0</td>\n",
              "      <td>0.0</td>\n",
              "      <td>0.0</td>\n",
              "      <td>0.00</td>\n",
              "      <td>1.0</td>\n",
              "    </tr>\n",
              "    <tr>\n",
              "      <th>smokes</th>\n",
              "      <td>942.0</td>\n",
              "      <td>8.384289</td>\n",
              "      <td>55.796054</td>\n",
              "      <td>0.0</td>\n",
              "      <td>0.0</td>\n",
              "      <td>0.0</td>\n",
              "      <td>0.00</td>\n",
              "      <td>1369.0</td>\n",
              "    </tr>\n",
              "  </tbody>\n",
              "</table>\n",
              "</div>"
            ],
            "text/plain": [
              "                                 count       mean  ...    75%     max\n",
              "Age                              942.0  27.114650  ...  32.75    79.0\n",
              "Number of sexual partners        942.0   2.329087  ...   3.00    28.0\n",
              "First sexual intercourse         942.0  16.773885  ...  18.00    32.0\n",
              "Num of pregnancies               942.0   2.225053  ...   3.00    10.0\n",
              "Hormonal Contraceptives (years)  942.0   2.282378  ...   3.00    20.0\n",
              "IUD (years)                      942.0   0.472399  ...   0.00    19.0\n",
              "STDs (number)                    942.0   0.160297  ...   0.00     4.0\n",
              "Dx:CIN                           942.0   0.003185  ...   0.00     1.0\n",
              "Dx:HPV                           942.0   0.015924  ...   0.00     1.0\n",
              "smokes                           942.0   8.384289  ...   0.00  1369.0\n",
              "\n",
              "[10 rows x 8 columns]"
            ]
          },
          "metadata": {
            "tags": []
          },
          "execution_count": 138
        }
      ]
    },
    {
      "cell_type": "markdown",
      "metadata": {
        "id": "zFpse2NawQOO",
        "colab_type": "text"
      },
      "source": [
        "# Final model\n",
        "The final model would be Random Forest with original data scale."
      ]
    },
    {
      "cell_type": "markdown",
      "metadata": {
        "id": "Qn24ywQM6sg1",
        "colab_type": "text"
      },
      "source": [
        "Try and see if we can improve model performance by using Bayesian Optimization for hyper parameters tuning."
      ]
    },
    {
      "cell_type": "code",
      "metadata": {
        "id": "ERF5a47Q6LBb",
        "colab_type": "code",
        "colab": {}
      },
      "source": [
        "!pip install bayesian-optimization\n",
        "from bayes_opt import BayesianOptimization"
      ],
      "execution_count": null,
      "outputs": []
    },
    {
      "cell_type": "code",
      "metadata": {
        "id": "ePjw4e4W7UXO",
        "colab_type": "code",
        "colab": {
          "base_uri": "https://localhost:8080/",
          "height": 502
        },
        "outputId": "54d9aa23-f679-4c3f-c32f-964b2e22f4aa"
      },
      "source": [
        "def rf_cv_f1(criterion, min_samples_split, n_estimators):\n",
        "    criterion, min_samples_split, n_estimators = [int(x) for x in [criterion, min_samples_split, n_estimators]]\n",
        "    criterion_dict = {1:'gini', 2:'entropy'}\n",
        "    rf = skl.ensemble.RandomForestClassifier(criterion = criterion_dict[criterion], min_samples_split = min_samples_split, \n",
        "                                             n_estimators = n_estimators)\n",
        "    return skl.model_selection.cross_val_score(rf, X_smote, y_smote, scoring = score, cv = 3).mean().round(2)\n",
        "\n",
        "def get_params(dict_):\n",
        "    dict_['criterion'] = {1:'gini', 2:'entropy'}[int(dict_['criterion'])]\n",
        "    dict_['min_samples_split'] = int(dict_['min_samples_split'])\n",
        "    dict_['n_estimators'] = int(dict_['n_estimators'])\n",
        "    return dict_\n",
        "\n",
        "rf_bo = BayesianOptimization(rf_cv_f1, {'criterion': (1, 2.99999), 'min_samples_split': (2, 500), 'n_estimators': (50, 500)})\n",
        "rf_bo.maximize(n_iter = 20)"
      ],
      "execution_count": null,
      "outputs": [
        {
          "output_type": "stream",
          "text": [
            "|   iter    |  target   | criterion | min_sa... | n_esti... |\n",
            "-------------------------------------------------------------\n",
            "| \u001b[0m 1       \u001b[0m | \u001b[0m 0.58    \u001b[0m | \u001b[0m 2.885   \u001b[0m | \u001b[0m 344.7   \u001b[0m | \u001b[0m 496.5   \u001b[0m |\n",
            "| \u001b[95m 2       \u001b[0m | \u001b[95m 0.7     \u001b[0m | \u001b[95m 1.977   \u001b[0m | \u001b[95m 66.54   \u001b[0m | \u001b[95m 353.7   \u001b[0m |\n",
            "| \u001b[0m 3       \u001b[0m | \u001b[0m 0.22    \u001b[0m | \u001b[0m 2.521   \u001b[0m | \u001b[0m 478.4   \u001b[0m | \u001b[0m 210.1   \u001b[0m |\n",
            "| \u001b[0m 4       \u001b[0m | \u001b[0m 0.44    \u001b[0m | \u001b[0m 2.111   \u001b[0m | \u001b[0m 478.9   \u001b[0m | \u001b[0m 433.3   \u001b[0m |\n",
            "| \u001b[95m 5       \u001b[0m | \u001b[95m 0.71    \u001b[0m | \u001b[95m 2.474   \u001b[0m | \u001b[95m 55.35   \u001b[0m | \u001b[95m 179.8   \u001b[0m |\n",
            "| \u001b[95m 6       \u001b[0m | \u001b[95m 0.84    \u001b[0m | \u001b[95m 3.0     \u001b[0m | \u001b[95m 2.0     \u001b[0m | \u001b[95m 500.0   \u001b[0m |\n",
            "| \u001b[0m 7       \u001b[0m | \u001b[0m 0.83    \u001b[0m | \u001b[0m 2.621   \u001b[0m | \u001b[0m 2.0     \u001b[0m | \u001b[0m 50.0    \u001b[0m |\n",
            "| \u001b[0m 8       \u001b[0m | \u001b[0m 0.7     \u001b[0m | \u001b[0m 1.513   \u001b[0m | \u001b[0m 68.79   \u001b[0m | \u001b[0m 355.4   \u001b[0m |\n",
            "| \u001b[0m 9       \u001b[0m | \u001b[0m 0.83    \u001b[0m | \u001b[0m 2.071   \u001b[0m | \u001b[0m 2.276   \u001b[0m | \u001b[0m 499.0   \u001b[0m |\n",
            "| \u001b[0m 10      \u001b[0m | \u001b[0m 0.64    \u001b[0m | \u001b[0m 1.168   \u001b[0m | \u001b[0m 230.5   \u001b[0m | \u001b[0m 50.52   \u001b[0m |\n",
            "| \u001b[0m 11      \u001b[0m | \u001b[0m 0.66    \u001b[0m | \u001b[0m 2.975   \u001b[0m | \u001b[0m 122.4   \u001b[0m | \u001b[0m 500.0   \u001b[0m |\n",
            "| \u001b[0m 12      \u001b[0m | \u001b[0m 0.64    \u001b[0m | \u001b[0m 2.907   \u001b[0m | \u001b[0m 257.3   \u001b[0m | \u001b[0m 282.4   \u001b[0m |\n",
            "| \u001b[0m 13      \u001b[0m | \u001b[0m 0.7     \u001b[0m | \u001b[0m 2.838   \u001b[0m | \u001b[0m 94.15   \u001b[0m | \u001b[0m 51.28   \u001b[0m |\n",
            "| \u001b[0m 14      \u001b[0m | \u001b[0m 0.83    \u001b[0m | \u001b[0m 2.665   \u001b[0m | \u001b[0m 2.06    \u001b[0m | \u001b[0m 125.2   \u001b[0m |\n",
            "| \u001b[0m 15      \u001b[0m | \u001b[0m 0.22    \u001b[0m | \u001b[0m 2.985   \u001b[0m | \u001b[0m 488.1   \u001b[0m | \u001b[0m 50.58   \u001b[0m |\n",
            "| \u001b[0m 16      \u001b[0m | \u001b[0m 0.84    \u001b[0m | \u001b[0m 2.787   \u001b[0m | \u001b[0m 2.945   \u001b[0m | \u001b[0m 206.6   \u001b[0m |\n",
            "| \u001b[0m 17      \u001b[0m | \u001b[0m 0.83    \u001b[0m | \u001b[0m 2.908   \u001b[0m | \u001b[0m 2.055   \u001b[0m | \u001b[0m 437.9   \u001b[0m |\n",
            "| \u001b[0m 18      \u001b[0m | \u001b[0m 0.83    \u001b[0m | \u001b[0m 2.15    \u001b[0m | \u001b[0m 2.476   \u001b[0m | \u001b[0m 281.6   \u001b[0m |\n",
            "| \u001b[0m 19      \u001b[0m | \u001b[0m 0.83    \u001b[0m | \u001b[0m 2.478   \u001b[0m | \u001b[0m 2.058   \u001b[0m | \u001b[0m 342.5   \u001b[0m |\n",
            "| \u001b[0m 20      \u001b[0m | \u001b[0m 0.83    \u001b[0m | \u001b[0m 2.755   \u001b[0m | \u001b[0m 2.779   \u001b[0m | \u001b[0m 242.3   \u001b[0m |\n",
            "| \u001b[0m 21      \u001b[0m | \u001b[0m 0.83    \u001b[0m | \u001b[0m 1.885   \u001b[0m | \u001b[0m 2.203   \u001b[0m | \u001b[0m 182.3   \u001b[0m |\n",
            "| \u001b[0m 22      \u001b[0m | \u001b[0m 0.64    \u001b[0m | \u001b[0m 2.78    \u001b[0m | \u001b[0m 233.1   \u001b[0m | \u001b[0m 406.0   \u001b[0m |\n",
            "| \u001b[0m 23      \u001b[0m | \u001b[0m 0.83    \u001b[0m | \u001b[0m 2.451   \u001b[0m | \u001b[0m 2.694   \u001b[0m | \u001b[0m 81.44   \u001b[0m |\n",
            "| \u001b[0m 24      \u001b[0m | \u001b[0m 0.83    \u001b[0m | \u001b[0m 2.812   \u001b[0m | \u001b[0m 2.743   \u001b[0m | \u001b[0m 397.2   \u001b[0m |\n",
            "| \u001b[0m 25      \u001b[0m | \u001b[0m 0.83    \u001b[0m | \u001b[0m 2.813   \u001b[0m | \u001b[0m 2.234   \u001b[0m | \u001b[0m 479.2   \u001b[0m |\n",
            "=============================================================\n"
          ],
          "name": "stdout"
        }
      ]
    },
    {
      "cell_type": "code",
      "metadata": {
        "id": "UPLw_QfTSFmB",
        "colab_type": "code",
        "colab": {}
      },
      "source": [
        "best_params = get_params(rf_bo.max['params'])"
      ],
      "execution_count": null,
      "outputs": []
    },
    {
      "cell_type": "markdown",
      "metadata": {
        "id": "0hsFeO3ZP8Ya",
        "colab_type": "text"
      },
      "source": [
        "No better hyperparameter found. However we can still use the best parameters found here which has the same performance like random search."
      ]
    },
    {
      "cell_type": "code",
      "metadata": {
        "id": "Ayqpf5kvQjSm",
        "colab_type": "code",
        "colab": {
          "base_uri": "https://localhost:8080/",
          "height": 155
        },
        "outputId": "4f3cd6c4-8ef7-4dfb-8b46-54f77c74a16b"
      },
      "source": [
        "final_model = skl.ensemble.RandomForestClassifier(**best_params)\n",
        "final_model.fit(X_smote, y_smote)"
      ],
      "execution_count": null,
      "outputs": [
        {
          "output_type": "execute_result",
          "data": {
            "text/plain": [
              "RandomForestClassifier(bootstrap=True, ccp_alpha=0.0, class_weight=None,\n",
              "                       criterion='entropy', max_depth=None, max_features='auto',\n",
              "                       max_leaf_nodes=None, max_samples=None,\n",
              "                       min_impurity_decrease=0.0, min_impurity_split=None,\n",
              "                       min_samples_leaf=1, min_samples_split=2,\n",
              "                       min_weight_fraction_leaf=0.0, n_estimators=500,\n",
              "                       n_jobs=None, oob_score=False, random_state=None,\n",
              "                       verbose=0, warm_start=False)"
            ]
          },
          "metadata": {
            "tags": []
          },
          "execution_count": 56
        }
      ]
    },
    {
      "cell_type": "markdown",
      "metadata": {
        "id": "pM_h0puXlm22",
        "colab_type": "text"
      },
      "source": [
        "### Look at our testing data"
      ]
    },
    {
      "cell_type": "code",
      "metadata": {
        "id": "xZJe8Y4fVNYr",
        "colab_type": "code",
        "colab": {
          "base_uri": "https://localhost:8080/",
          "height": 69
        },
        "outputId": "981d2c5d-68d7-4ce5-e894-135227386a5e"
      },
      "source": [
        "y_test.value_counts(normalize = 1 == 1)"
      ],
      "execution_count": null,
      "outputs": [
        {
          "output_type": "execute_result",
          "data": {
            "text/plain": [
              "0    0.932886\n",
              "1    0.067114\n",
              "Name: Biopsy, dtype: float64"
            ]
          },
          "metadata": {
            "tags": []
          },
          "execution_count": 143
        }
      ]
    },
    {
      "cell_type": "markdown",
      "metadata": {
        "id": "ePPeKpCQl4iD",
        "colab_type": "text"
      },
      "source": [
        "There're only about 7% of the people diagnosed with cancer."
      ]
    },
    {
      "cell_type": "markdown",
      "metadata": {
        "id": "6igM_y1dT9Kx",
        "colab_type": "text"
      },
      "source": [
        "# Check how the model performs on testing data"
      ]
    },
    {
      "cell_type": "code",
      "metadata": {
        "id": "QA5hOWIBUH3h",
        "colab_type": "code",
        "colab": {
          "base_uri": "https://localhost:8080/",
          "height": 173
        },
        "outputId": "67c34649-55e1-4d82-8b38-b4e561a5d3a4"
      },
      "source": [
        "report = skl.metrics.classification_report(y_test, final_model.predict(X_test))\n",
        "print(report)"
      ],
      "execution_count": null,
      "outputs": [
        {
          "output_type": "stream",
          "text": [
            "              precision    recall  f1-score   support\n",
            "\n",
            "           0       0.95      0.82      0.88       139\n",
            "           1       0.14      0.40      0.21        10\n",
            "\n",
            "    accuracy                           0.79       149\n",
            "   macro avg       0.54      0.61      0.54       149\n",
            "weighted avg       0.90      0.79      0.83       149\n",
            "\n"
          ],
          "name": "stdout"
        }
      ]
    },
    {
      "cell_type": "markdown",
      "metadata": {
        "id": "VT6Nsxl6mJ4m",
        "colab_type": "text"
      },
      "source": [
        "The model can correctly predict about 40% of the cancer patients in our testing data. This is not good, but It's still a lot better than just doing some random guessing."
      ]
    },
    {
      "cell_type": "code",
      "metadata": {
        "id": "MzgX0CkkWLVK",
        "colab_type": "code",
        "colab": {
          "base_uri": "https://localhost:8080/",
          "height": 279
        },
        "outputId": "47cf988f-d301-476c-bf01-af35bde8f7a6"
      },
      "source": [
        "p = skl.metrics.plot_confusion_matrix(final_model, X_test, y_test, cmap = 'Blues',display_labels = ['No cancer', 'Cancer'])"
      ],
      "execution_count": null,
      "outputs": [
        {
          "output_type": "display_data",
          "data": {
            "image/png": "[encoded data removed]",
            "text/plain": [
              "<Figure size 432x288 with 2 Axes>"
            ]
          },
          "metadata": {
            "tags": []
          }
        }
      ]
    },
    {
      "cell_type": "markdown",
      "metadata": {
        "id": "WgNNN30n1LgM",
        "colab_type": "text"
      },
      "source": [
        "Lets see what are the important features for predicting cancer."
      ]
    },
    {
      "cell_type": "code",
      "metadata": {
        "id": "9QGZyUzU1Sjk",
        "colab_type": "code",
        "colab": {
          "base_uri": "https://localhost:8080/",
          "height": 280
        },
        "outputId": "51e27e13-144e-445a-eade-d670456e7bd3"
      },
      "source": [
        "imp_feat = pd.Series(final_model.feature_importances_, index = X_smote.columns).sort_values(ascending = 1 == 2).reset_index()\n",
        "imp_feat.columns = ['feature', 'importance_score']\n",
        "sns.barplot('importance_score', 'feature', data = imp_feat)\n",
        "p = plt.ylabel('')"
      ],
      "execution_count": null,
      "outputs": [
        {
          "output_type": "display_data",
          "data": {
            "image/png": "[encoded data removed]",
            "text/plain": [
              "<Figure size 432x288 with 1 Axes>"
            ]
          },
          "metadata": {
            "tags": []
          }
        }
      ]
    },
    {
      "cell_type": "markdown",
      "metadata": {
        "id": "5sm2knjj4dUu",
        "colab_type": "text"
      },
      "source": [
        "* Age & First sexual intercourse are the 2 high risk factors for Cervical Cancer.\n",
        "* Number of sexual partners, HC, & Number of pregnancies are the 3 medium risk factors for Cervical Cancer."
      ]
    }
  ]
}
